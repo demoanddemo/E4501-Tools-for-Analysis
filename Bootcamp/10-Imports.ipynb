{
 "cells": [
  {
   "cell_type": "markdown",
   "metadata": {},
   "source": [
    "# Imports"
   ]
  },
  {
   "cell_type": "markdown",
   "metadata": {},
   "source": [
    "#### Built-in Functions\n",
    "\n",
    "https://docs.python.org/3/library/functions.html"
   ]
  },
  {
   "cell_type": "code",
   "execution_count": 1,
   "metadata": {},
   "outputs": [
    {
     "data": {
      "text/plain": [
       "2"
      ]
     },
     "execution_count": 1,
     "metadata": {},
     "output_type": "execute_result"
    }
   ],
   "source": [
    "max(1, 2)"
   ]
  },
  {
   "cell_type": "code",
   "execution_count": 2,
   "metadata": {},
   "outputs": [
    {
     "name": "stdout",
     "output_type": "stream",
     "text": [
      "Available!\n"
     ]
    }
   ],
   "source": [
    "print('Available!')"
   ]
  },
  {
   "cell_type": "markdown",
   "metadata": {},
   "source": [
    "#### Standard Library\n",
    "\n",
    "Functions, modulues, packages that are not in built-ins but do not need installation past interpreter installation.\n",
    "\n",
    "NB. Standard Library includes built-ins\n",
    "\n",
    "https://docs.python.org/3/library/"
   ]
  },
  {
   "cell_type": "code",
   "execution_count": 3,
   "metadata": {},
   "outputs": [
    {
     "data": {
      "text/plain": [
       "10"
      ]
     },
     "execution_count": 3,
     "metadata": {},
     "output_type": "execute_result"
    }
   ],
   "source": [
    "import random\n",
    "\n",
    "random.randint(1, 10)"
   ]
  },
  {
   "cell_type": "code",
   "execution_count": 4,
   "metadata": {},
   "outputs": [
    {
     "data": {
      "text/plain": [
       "1566154113.9355648"
      ]
     },
     "execution_count": 4,
     "metadata": {},
     "output_type": "execute_result"
    }
   ],
   "source": [
    "import time\n",
    "\n",
    "time.time()  # Unix timestamp"
   ]
  },
  {
   "cell_type": "markdown",
   "metadata": {},
   "source": [
    "#### 3rd Party Libraries\n",
    "\n",
    "https://pypi.org/"
   ]
  },
  {
   "cell_type": "code",
   "execution_count": 14,
   "metadata": {},
   "outputs": [
    {
     "name": "stdout",
     "output_type": "stream",
     "text": [
      "Collecting Django\n",
      "  Using cached https://files.pythonhosted.org/packages/eb/4b/743d5008fc7432c714d753e1fc7ee56c6a776dc566cc6cfb4136d46cdcbb/Django-2.2.2-py3-none-any.whl\n",
      "Collecting sqlparse (from Django)\n",
      "  Using cached https://files.pythonhosted.org/packages/ef/53/900f7d2a54557c6a37886585a91336520e5539e3ae2423ff1102daf4f3a7/sqlparse-0.3.0-py2.py3-none-any.whl\n",
      "Requirement already satisfied: pytz in /Users/paul/.pyenv/versions/anaconda3-2019.03/lib/python3.7/site-packages (from Django) (2018.9)\n",
      "Installing collected packages: sqlparse, Django\n",
      "Successfully installed Django-2.2.2 sqlparse-0.3.0\n"
     ]
    }
   ],
   "source": [
    "!pip install Django # Anaconda comes with a lot of 3rd party packages already installed"
   ]
  },
  {
   "cell_type": "code",
   "execution_count": 5,
   "metadata": {},
   "outputs": [
    {
     "name": "stdout",
     "output_type": "stream",
     "text": [
      "\u001b[33mThe directory '/home/jovyan/.cache/pip/http' or its parent directory is not owned by the current user and the cache has been disabled. Please check the permissions and owner of that directory. If executing pip with sudo, you may want sudo's -H flag.\u001b[0m\n",
      "\u001b[33mThe directory '/home/jovyan/.cache/pip' or its parent directory is not owned by the current user and caching wheels has been disabled. check the permissions and owner of that directory. If executing pip with sudo, you may want sudo's -H flag.\u001b[0m\n",
      "Collecting catzzz\n",
      "  Downloading https://files.pythonhosted.org/packages/8d/81/13c2e669c4121b8ef294b61ce684ae74bb4fa09ed2bc741db8d9181066bd/catzzz-0.1.6.tar.gz\n",
      "Installing collected packages: catzzz\n",
      "  Running setup.py install for catzzz ... \u001b[?25ldone\n",
      "\u001b[?25hSuccessfully installed catzzz-0.1.6\n",
      "\u001b[33mYou are using pip version 9.0.3, however version 19.2.2 is available.\n",
      "You should consider upgrading via the 'pip install --upgrade pip' command.\u001b[0m\n"
     ]
    }
   ],
   "source": [
    "!pip install catzzz"
   ]
  },
  {
   "cell_type": "code",
   "execution_count": 9,
   "metadata": {},
   "outputs": [
    {
     "name": "stdout",
     "output_type": "stream",
     "text": [
      "\n",
      "                   .               ,.\n",
      "                  T.\"-._..---.._,-\"/|\n",
      "                  l|\"-.  _.v._   (\" |\n",
      "                  [l /.'_ \\; _~\"-.`-t\n",
      "                  Y \" _(o} _{o)._ ^.|\n",
      "                  j  T  ,-<v>-.  T  ]\n",
      "                  \\  l ( /-^-\\ ) !  !\n",
      "                   \\. \\.  \"~\"  ./  /c-..,__\n",
      "                     ^r- .._ .- .-\"  `- .  ~\"--.\n",
      "                      > \\.                      \\\n",
      "                      ]   ^.                     \\\n",
      "                      3  .  \">            .       Y  -Row\n",
      "         ,.__.--._   _j   \\ ~   .         ;       |\n",
      "        (    ~\"-._~\"^._\\   ^.    ^._      I     . l\n",
      "         \"-._ ___ ~\"-,_7    .Z-._   7\"   Y      ;  \\        _\n",
      "            /\"   \"~-(r r  _/_--._~-/    /      /,.--^-._   / Y\n",
      "            \"-._    '\"~~~>-._~]>--^---./____,.^~        ^.^  !\n",
      "                ~--._    '   Y---.                        \\./\n",
      "                     ~~--._  l_   )                        \\\n",
      "                           ~-._~~~---._,____..---           \\\n",
      "                               ~----\"~       \\\n",
      "\n",
      "\n",
      "      \\    /\\\n",
      "       )  ( ')\n",
      "      (  /  )\n",
      " jgs   \\(__)|\n",
      "\n",
      "\n",
      "                       ,\n",
      "                      /|\n",
      "                 ___,/'\\\n",
      "             ,-\"`    ~ `;\n",
      "            .`\\  /     `\\.\n",
      "          ,/_ _ |\\       `\\   ,--,__,-\"\n",
      "    ,_,-'\"`   \\`\\ `- ,     \\ /     /   _/\n",
      "      `\"~-\\    \\    /  .-' |/         /\n",
      "           `\\ __, .-; '.-' /\n",
      "             `\\_. `-'__, _/   _/\n",
      "               `\\`  /`__/    /\n",
      "              _,-`--'/\n",
      "           .-\"     _/   /    /\n",
      "          /   _,-\"`/  /'    /\n",
      "          \\__/ jgs\n",
      "\n",
      "\n",
      "              .__....._             _.....__,\n",
      "                 .\": o :':         ;': o :\".\n",
      "                 `. `-' .'.       .'. `-' .'\n",
      "                   `---'             `---'\n",
      "        |                                          |\n",
      "         _...----...      ...   ...      ...----..._\n",
      "      .-'__..-\"\"'----    `.  `\"`  .'    ----'\"\"-..__`-.\n",
      "     '.-'   _.--\"\"\"'       `-._.-'       '\"\"\"--._   `-.`\n",
      "     '  .-\"'                  :                  `\"-.  `\n",
      "       '   `.              _.'\"'._              .'   `\n",
      "             `.       ,.-'\"       \"'-.,       .'\n",
      "               `.                           .'\n",
      "          jgs    `-._                   _.-'\n",
      "                     `\"'--...___...--'\"`\n",
      "\n",
      "\n",
      " ((      /|_/|\n",
      "  \\\\.._.'  , ,\\\n",
      "  /\\ | '.__ v /\n",
      " (_ .   /   \"\n",
      "  ) _)._  _ /\n",
      " '.\\ \\|( / ( mrf\n",
      "   '' ''\\\\ \\\\\n",
      "\n",
      "\n",
      "            _,'|             _.-''``-...___..--';)\n",
      "           /_ \\'.      __..-' ,      ,--...--'''\n",
      "          <\\    .`--'''       `     /'\n",
      "           `-';'               ;   ; ;\n",
      "     __...--''     ___...--_..'  .;.'\n",
      "    (,__....----'''       (,..--''   Felix Lee\n",
      "\n",
      "\n",
      "    (\"`-''-/\").___..--''\"`-._\n",
      "     `6_ 6  )   `-.  (     ).`-.__.`)\n",
      "     (_Y_.)'  ._   )  `._ `. ``-..-'\n",
      "   _..`--'_..-_/  /--'_.' ,'\n",
      "  (il),-''  (li),'  ((!.-'    Felix Lee\n",
      "\n",
      "\n",
      "     (\"`-/\")_.-'\"``-._\n",
      "      . . `; -._    )-;-,_`)\n",
      "     (v_,)'  _  )`-.\\  ``-'\n",
      "    _.- _..-_/ / ((.'\n",
      "  ((,.-'   ((,/    Felix Lee\n",
      "\n",
      "\n",
      "   |\\      _,,,---,,_\n",
      "   /,`.-'`'    -.  ;-;;,_\n",
      "  |,4-  ) )-,_..;\\ (  `'-'\n",
      " '---''(_/--'  `-'\\_)  Felix Lee\n",
      "\n",
      "\n",
      "    (\"`-''-/\").___..--''\"`-._\n",
      "     `6_ 6  )   `-.  (     ).`-.__.`)\n",
      "     (_Y_.)'  ._   )  `._ `. ``-..-'\n",
      "   _..`--'_..-_/  /--'_.' ,'\n",
      "  (il).-''  (li).'  ((!.-'\n",
      "   )\\._.,--....,'``.\n",
      "  /,   _.. \\   _\\  (`._ ,.\n",
      " `._.-(,_..'--(,_..'`-.;.'  Felix Lee\n",
      "\n",
      "\n",
      "      _.---.._             _.---...__\n",
      "   .-'   /\\   \\          .'  /\\     /\n",
      "   `.   (  )   \\        /   (  )   /\n",
      "     `.  \\/   .'\\      /`.   \\/  .'\n",
      "       ``---''   )    (   ``---''\n",
      "               .';.--.;`.\n",
      "             .' /_...._\\ `.\n",
      "           .'   `.a  a.'   `.\n",
      "          (        \\/        )\n",
      "           `.___..-'`-..___.'\n",
      "              \\          /\n",
      "               `-.____.-'  Felix Lee\n",
      "\n",
      "\n",
      "   |\\      _,,,---,,_\n",
      "   /,`.-'`'    -.  ;-;;,_\n",
      "  |,4-  ) )-,_..;\\ (  `'-'\n",
      " '---''(_/--'  `-'\\_)\n",
      "\n",
      "\n",
      "              __..--''``---....___   _..._    __\n",
      "    /// //_.-'    .-/\";  `        ``<._  ``.''_ `. / // /\n",
      "   ///_.-' _..--.'_    \\                    `( ) ) // //\n",
      "   / (_..-' // (< _     ;_..__               ; `' / ///\n",
      "    / // // //  `-._,_)' // / ``--...____..-' /// / //\n",
      "Felix Lee\n",
      "\n",
      "\n",
      "           __..--''``\\--....___   _..,_\n",
      "       _.-'    .-/\";  `        ``<._  ``-+'~=.\n",
      "   _.-' _..--.'_    \\                    `(^) )\n",
      "  ((..-'    (< _     ;_..__               ; `'   fL\n",
      "             `-._,_)'      ``--...____..-'\n",
      "\n",
      "\n",
      "             _,'|             _.-''``-...___..--';)\n",
      "           /_ \\'.      __..-' ,      ,--...--'''\n",
      "          <\\    .`--'''       `     /'\n",
      "           `-';'               ;   ; ;\n",
      "     __...--''     ___...--_..'  .;.'\n",
      "    (,__....----'''       (,..--''\n",
      "\n",
      "\n",
      "                       (`.-,')\n",
      "                     .-'     ;\n",
      "                 _.-'   , `,-\n",
      "           _ _.-'     .'  /._\n",
      "         .' `  _.-.  /  ,'._;)\n",
      "        (       .  )-| (\n",
      "         )`,_ ,'_,'  \\_;)\n",
      " ('_  _,'.'  (___,))\n",
      "  `-:;.-'\n",
      "\n",
      "\n",
      "                                 _\n",
      "                                | \\\n",
      "                                | |\n",
      "                                | |\n",
      "           |\\                   | |\n",
      "          /, ~\\                / /\n",
      "         X     `-.....-------./ /\n",
      "          ~-. ~  ~              |\n",
      "             \\             /    |\n",
      "              \\  /_     ___\\   /\n",
      "              | /\\ ~~~~~   \\ |\n",
      "              | | \\        || |\n",
      "              | |\\ \\       || )\n",
      "             (_/ (_/      ((_/\n",
      "\n",
      "\n",
      "      ,/|         _.--''^``-...___.._.,;\n",
      "     /, \\'.     _-'          ,--,,,--'''\n",
      "    { \\    `_-''       '    /}\n",
      "     `;;'            ;   ; ;\n",
      " ._.--''     ._,,, _..'  .;.'\n",
      "  (,_....----'''     (,..--''\n",
      "\n",
      "\n",
      "                      /^--^\\     /^--^\\     /^--^\\\n",
      "                      \\____/     \\____/     \\____/\n",
      "                     /      \\   /      \\   /      \\\n",
      "                    |        | |        | |        |\n",
      "                     \\__  __/   \\__  __/   \\__  __/\n",
      "|^|^|^|^|^|^|^|^|^|^|^|^\\ \\^|^|^|^/ /^|^|^|^|^\\ \\^|^|^|^|^|^|^|^|^|^|^|^|\n",
      "| | | | | | | | | | | | |\\ \\| | |/ /| | | | | | \\ \\ | | | | | | | | | | |\n",
      "########################/ /######\\ \\###########/ /#######################\n",
      "| | | | | | | | | | | | \\/| | | | \\/| | | | | |\\/ | | | | | | | | | | | |\n",
      "|_|_|_|_|_|_|_|_|_|_|_|_|_|_|_|_|_|_|_|_|_|_|_|_|_|_|_|_|_|_|_|_|_|_|_|_|\n",
      "\n",
      "\n",
      "             *     ,MMM8&&&.            *\n",
      "                  MMMM88&&&&&    .\n",
      "                 MMMM88&&&&&&&\n",
      "     *           MMM88&&&&&&&&\n",
      "                 MMM88&&&&&&&&\n",
      "                 'MMM88&&&&&&'\n",
      "                   'MMM8&&&'      *\n",
      "          |\\___/|\n",
      "          )     (             .              '\n",
      "         =\\     /=\n",
      "           )===(       *\n",
      "          /     \\\n",
      "          |     |\n",
      "         /       \\\n",
      "         \\       /\n",
      "  _/\\_/\\_/\\__  _/_/\\_/\\_/\\_/\\_/\\_/\\_/\\_/\\_/\\_\n",
      "  |  |  |  |( (  |  |  |  |  |  |  |  |  |  |\n",
      "  |  |  |  | ) ) |  |  |  |  |  |  |  |  |  |\n",
      "  |  |  |  |(_(  |  |  |  |  |  |  |  |  |  |\n",
      "  |  |  |  |  |  |  |  |  |  |  |  |  |  |  |\n",
      "  jgs|  |  |  |  |  |  |  |  |  |  |  |  |  |\n",
      "\n",
      "\n",
      "             *     ,MMM8&&&.            *\n",
      "                  MMMM88&&&&&    .\n",
      "                 MMMM88&&&&&&&\n",
      "     *           MMM88&&&&&&&&\n",
      "                 MMM88&&&&&&&&\n",
      "                 'MMM88&&&&&&'\n",
      "                   'MMM8&&&'      *\n",
      "          |\\___/|\n",
      "         =) ^Y^ (=            .              '\n",
      "          \\  ^  /\n",
      "           )=*=(       *\n",
      "          /     \\\n",
      "          |     |\n",
      "         /| | | |\\\n",
      "         \\| | |_|/\\\n",
      "  jgs_/\\_//_// ___/\\_/\\_/\\_/\\_/\\_/\\_/\\_/\\_/\\_\n",
      "  |  |  |  | \\_) |  |  |  |  |  |  |  |  |  |\n",
      "  |  |  |  |  |  |  |  |  |  |  |  |  |  |  |\n",
      "  |  |  |  |  |  |  |  |  |  |  |  |  |  |  |\n",
      "  |  |  |  |  |  |  |  |  |  |  |  |  |  |  |\n",
      "  |  |  |  |  |  |  |  |  |  |  |  |  |  |  |\n",
      "\n"
     ]
    }
   ],
   "source": [
    "import catzzz"
   ]
  },
  {
   "cell_type": "code",
   "execution_count": null,
   "metadata": {},
   "outputs": [],
   "source": []
  }
 ],
 "metadata": {
  "kernelspec": {
   "display_name": "Python 3",
   "language": "python",
   "name": "python3"
  },
  "language_info": {
   "codemirror_mode": {
    "name": "ipython",
    "version": 3
   },
   "file_extension": ".py",
   "mimetype": "text/x-python",
   "name": "python",
   "nbconvert_exporter": "python",
   "pygments_lexer": "ipython3",
   "version": "3.7.3"
  }
 },
 "nbformat": 4,
 "nbformat_minor": 2
}
