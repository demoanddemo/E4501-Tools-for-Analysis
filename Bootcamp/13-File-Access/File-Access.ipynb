{
 "cells": [
  {
   "cell_type": "code",
   "execution_count": null,
   "metadata": {},
   "outputs": [],
   "source": [
    "# fp = open('open_test.txt', 'w')\n",
    "\n",
    "with open('open_test.txt', 'w') as fp:\n",
    "    fp.write('This is my test string, all about that jazz')\n",
    "    \n",
    "# Check for file on local files system"
   ]
  },
  {
   "cell_type": "code",
   "execution_count": null,
   "metadata": {},
   "outputs": [],
   "source": [
    "with open('open_test.txt') as fp:  # mode is 'r' by default\n",
    "    content = fp.read()\n",
    "\n",
    "content"
   ]
  },
  {
   "cell_type": "code",
   "execution_count": null,
   "metadata": {},
   "outputs": [],
   "source": [
    "lines = [\n",
    "    'line 1',\n",
    "    'line 2',\n",
    "    'line 3',\n",
    "]\n",
    "\n",
    "with open('open_test.txt', 'w') as fp:\n",
    "    fp.writelines(lines)"
   ]
  },
  {
   "cell_type": "code",
   "execution_count": null,
   "metadata": {},
   "outputs": [],
   "source": [
    "with open('open_test.txt') as fp:\n",
    "    content = fp.read()\n",
    "\n",
    "content  # no newlines!\n"
   ]
  },
  {
   "cell_type": "code",
   "execution_count": null,
   "metadata": {},
   "outputs": [],
   "source": [
    "with open('open_test.txt', 'w') as fp:\n",
    "    fp.writelines(map(lambda line: line + '\\n', lines))  # one soution for no new lines\n",
    "    \n",
    "with open('open_test.txt') as fp:\n",
    "    content = fp.read()\n",
    "\n",
    "print(content)"
   ]
  },
  {
   "cell_type": "code",
   "execution_count": null,
   "metadata": {},
   "outputs": [],
   "source": [
    "# Notice content was all erased if written to again.\n",
    "# Let's open the file for appending, not just writing. \n",
    "with open('open_test.txt', 'a') as fp:  # open for writing, appending to the end of the file if it exists\n",
    "    fp.writelines(map(lambda line: line + '\\n', lines))\n",
    "    \n",
    "with open('open_test.txt') as fp:\n",
    "    content = fp.read()\n",
    "\n",
    "print(content)"
   ]
  },
  {
   "cell_type": "code",
   "execution_count": null,
   "metadata": {},
   "outputs": [],
   "source": [
    "with open('MurderNote.rtf') as fp:\n",
    "    data = p"
   ]
  }
 ],
 "metadata": {
  "kernelspec": {
   "display_name": "Python 3",
   "language": "python",
   "name": "python3"
  },
  "language_info": {
   "codemirror_mode": {
    "name": "ipython",
    "version": 3
   },
   "file_extension": ".py",
   "mimetype": "text/x-python",
   "name": "python",
   "nbconvert_exporter": "python",
   "pygments_lexer": "ipython3",
   "version": "3.7.3"
  }
 },
 "nbformat": 4,
 "nbformat_minor": 2
}
