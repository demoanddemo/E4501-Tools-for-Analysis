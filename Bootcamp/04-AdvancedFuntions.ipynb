{
 "cells": [
  {
   "cell_type": "markdown",
   "metadata": {},
   "source": [
    "# Advanced Functions"
   ]
  },
  {
   "cell_type": "code",
   "execution_count": null,
   "metadata": {},
   "outputs": [],
   "source": [
    "def myfunc(arg1, arg2, *args):  # we are passing tuple for positional arguments\n",
    "    print(arg1)\n",
    "    print(arg2)\n",
    "    print(args)\n",
    "\n",
    "myfunc(1, 2, 3)"
   ]
  },
  {
   "cell_type": "code",
   "execution_count": null,
   "metadata": {},
   "outputs": [],
   "source": [
    "myfunc(1, 2, 3, 4, 5)  # Extra args get wrapped up into a tuple labeled \"args\""
   ]
  },
  {
   "cell_type": "code",
   "execution_count": null,
   "metadata": {},
   "outputs": [],
   "source": [
    "def myfunc(*args):  # NB. *args Is just a convention! Could be *puppies\n",
    "    for a in args:\n",
    "        print(a)\n",
    "\n",
    "print('First...')\n",
    "myfunc(1, 2, 3, 4)\n",
    "print('Done.')\n",
    "\n",
    "print()\n",
    "\n",
    "print('Second...')\n",
    "myfunc()  # Valid even with no given arguments\n",
    "print('Done.')"
   ]
  },
  {
   "cell_type": "code",
   "execution_count": null,
   "metadata": {},
   "outputs": [],
   "source": [
    "def myfunc(a=1):\n",
    "    return a + 1\n",
    "\n",
    "print(myfunc(2))\n",
    "print(myfunc())"
   ]
  },
  {
   "cell_type": "code",
   "execution_count": null,
   "metadata": {},
   "outputs": [],
   "source": [
    "def myfunc(**kwargs):  # we are passing a dict for keyword arguments\n",
    "    print(kwargs)\n",
    "\n",
    "myfunc(a=1, b=2, c=3)"
   ]
  },
  {
   "cell_type": "code",
   "execution_count": null,
   "metadata": {},
   "outputs": [],
   "source": [
    "def myfunc(a, b=40, *args, **kwargs):  # Use them all together!\n",
    "    print(args)\n",
    "    print(kwargs)\n",
    "\n",
    "myfunc(1, 2, 3, 5, k=1, j=4)"
   ]
  },
  {
   "cell_type": "code",
   "execution_count": null,
   "metadata": {},
   "outputs": [],
   "source": [
    "def myfunc(*args):  # can not use kwargs when only *args is defined\n",
    "    print(args)\n",
    "\n",
    "myfunc(a=1, b=2, c=3)"
   ]
  },
  {
   "cell_type": "code",
   "execution_count": null,
   "metadata": {},
   "outputs": [],
   "source": [
    "def myfunc(**kwargs):  # can not use postional args when only **kwargs is defined.\n",
    "    print(kwargs)\n",
    "\n",
    "myfunc(1, 2, 3, 5)"
   ]
  }
 ],
 "metadata": {
  "kernelspec": {
   "display_name": "Python 3",
   "language": "python",
   "name": "python3"
  },
  "language_info": {
   "codemirror_mode": {
    "name": "ipython",
    "version": 3
   },
   "file_extension": ".py",
   "mimetype": "text/x-python",
   "name": "python",
   "nbconvert_exporter": "python",
   "pygments_lexer": "ipython3",
   "version": "3.7.3"
  }
 },
 "nbformat": 4,
 "nbformat_minor": 2
}
