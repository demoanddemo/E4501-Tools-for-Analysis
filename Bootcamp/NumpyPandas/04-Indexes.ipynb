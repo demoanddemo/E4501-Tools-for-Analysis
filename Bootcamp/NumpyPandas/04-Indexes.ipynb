{
 "cells": [
  {
   "cell_type": "markdown",
   "metadata": {},
   "source": [
    "# Hierarchy in Indexes"
   ]
  },
  {
   "cell_type": "code",
   "execution_count": null,
   "metadata": {},
   "outputs": [],
   "source": [
    "import pandas as pd"
   ]
  },
  {
   "cell_type": "code",
   "execution_count": null,
   "metadata": {},
   "outputs": [],
   "source": [
    "df = pd.read_csv(\n",
    "    'WSH_HYGIENE_BASIC.csv', \n",
    "    header=[0, 2],\n",
    "    index_col=0,\n",
    ")  \n",
    "df.head()"
   ]
  },
  {
   "cell_type": "code",
   "execution_count": null,
   "metadata": {},
   "outputs": [],
   "source": [
    "# How coud we have made something like the chart above with the basics of Pandas\n",
    "df.loc['Afghanistan':'Bangladesh', '2015']"
   ]
  },
  {
   "cell_type": "code",
   "execution_count": null,
   "metadata": {},
   "outputs": [],
   "source": [
    "rural = {\n",
    "    'Afghanistan': 29.0,\n",
    "    'Algeria': 73.0,\n",
    "    'Angola': 15.0,\n",
    "    'Armenia': 77.0,\n",
    "    'Bangladesh': 31.0,\n",
    "}\n",
    "\n",
    "urban = {\n",
    "    'Afghanistan': 64.0,\n",
    "    'Algeria': 88.0,\n",
    "    'Angola': 37.0,\n",
    "    'Armenia': 93.0,\n",
    "    'Bangladesh': 58.0,\n",
    "}\n",
    "\n",
    "total = {\n",
    "    'Afghanistan': 38.0,\n",
    "    'Algeria': 84.0,\n",
    "    'Angola': 25.0,\n",
    "    'Armenia': 87.0,\n",
    "    'Bangladesh': 40.0,\n",
    "}\n",
    "\n",
    "data = {\n",
    "    'Rural': pd.Series(rural),\n",
    "    'Urban': pd.Series(urban),\n",
    "    'Total': pd.Series(total),\n",
    "}\n",
    "\n",
    "df = pd.DataFrame(data)  # Not quite it..\n",
    "df"
   ]
  },
  {
   "cell_type": "code",
   "execution_count": null,
   "metadata": {},
   "outputs": [],
   "source": [
    "columns = pd.MultiIndex.from_product([['2015'], ['Rural', 'Total', 'Urban']])\n",
    "columns"
   ]
  },
  {
   "cell_type": "code",
   "execution_count": null,
   "metadata": {},
   "outputs": [],
   "source": [
    "index = pd.Index(['Afghanistan', 'Algeria', 'Angola', 'Armenia', 'Bangladesh'])\n",
    "index"
   ]
  },
  {
   "cell_type": "code",
   "execution_count": null,
   "metadata": {},
   "outputs": [],
   "source": [
    "values = df.values\n",
    "values"
   ]
  },
  {
   "cell_type": "code",
   "execution_count": null,
   "metadata": {},
   "outputs": [],
   "source": [
    "df = pd.DataFrame(values, index=index, columns=columns)\n",
    "df"
   ]
  },
  {
   "cell_type": "code",
   "execution_count": null,
   "metadata": {},
   "outputs": [],
   "source": [
    "df.stack()  # Move a level of columns to be part of the row index"
   ]
  },
  {
   "cell_type": "code",
   "execution_count": null,
   "metadata": {},
   "outputs": [],
   "source": [
    "df.stack().stack()  # Move another level of column to be part of the row index"
   ]
  },
  {
   "cell_type": "code",
   "execution_count": null,
   "metadata": {},
   "outputs": [],
   "source": [
    "df.stack().stack().unstack()  # Move a level of index to be part of the columns"
   ]
  },
  {
   "cell_type": "code",
   "execution_count": null,
   "metadata": {},
   "outputs": [],
   "source": [
    "df.stack().stack().unstack().unstack()  # Move a level of index to be part of the columns"
   ]
  },
  {
   "cell_type": "markdown",
   "metadata": {},
   "source": [
    "### Indexing"
   ]
  },
  {
   "cell_type": "code",
   "execution_count": null,
   "metadata": {},
   "outputs": [],
   "source": [
    "df = pd.read_csv(\n",
    "    'WSH_HYGIENE_BASIC.csv', \n",
    "    header=[0, 2],\n",
    "    index_col=0,\n",
    ")  \n",
    "df.head()"
   ]
  },
  {
   "cell_type": "code",
   "execution_count": null,
   "metadata": {},
   "outputs": [],
   "source": [
    "df.loc[:, '2015'].head()  # First index operation operates on the outer layer of the hierarchical index."
   ]
  },
  {
   "cell_type": "code",
   "execution_count": null,
   "metadata": {},
   "outputs": [],
   "source": [
    "df.loc[:, ('2015', 'Rural')].head()  # Second moves us down through the second level of the index, use tuple"
   ]
  },
  {
   "cell_type": "code",
   "execution_count": null,
   "metadata": {},
   "outputs": [],
   "source": [
    "df.loc['Algeria', ('2015', 'Rural')]"
   ]
  },
  {
   "cell_type": "markdown",
   "metadata": {},
   "source": [
    "### Slicing"
   ]
  },
  {
   "cell_type": "code",
   "execution_count": null,
   "metadata": {},
   "outputs": [],
   "source": [
    "df.loc['Chad':'Costa Rica']  # Slicing still works"
   ]
  },
  {
   "cell_type": "code",
   "execution_count": null,
   "metadata": {},
   "outputs": [],
   "source": [
    "df.loc['Chad':'Costa Rica', '2010':'2015']  # UnsortedIndexError, hmmm"
   ]
  },
  {
   "cell_type": "code",
   "execution_count": null,
   "metadata": {},
   "outputs": [],
   "source": [
    "df.columns.lexsort_depth  # Looks like the column indexes are not sorted by Pandas terms"
   ]
  },
  {
   "cell_type": "code",
   "execution_count": null,
   "metadata": {},
   "outputs": [],
   "source": [
    "df = df.sort_index(axis=1)  # Sort the column index with axis = 1\n",
    "df.head()  # Notice years ascend now"
   ]
  },
  {
   "cell_type": "code",
   "execution_count": null,
   "metadata": {},
   "outputs": [],
   "source": [
    "df.columns.lexsort_depth"
   ]
  },
  {
   "cell_type": "code",
   "execution_count": null,
   "metadata": {},
   "outputs": [],
   "source": [
    "df.loc['Chad':'Costa Rica', '2010':'2015']"
   ]
  },
  {
   "cell_type": "code",
   "execution_count": null,
   "metadata": {},
   "outputs": [],
   "source": [
    "df.loc['Chad':'Costa Rica', ('2010':'2015', 'Rural')]  # SyntaxErrors"
   ]
  },
  {
   "cell_type": "code",
   "execution_count": null,
   "metadata": {},
   "outputs": [],
   "source": [
    "years = pd.IndexSlice['2010':'2015', 'Rural']\n",
    "df.loc['Chad':'Costa Rica', years]"
   ]
  },
  {
   "cell_type": "code",
   "execution_count": null,
   "metadata": {},
   "outputs": [],
   "source": [
    "# Setting, Reseting indexes\n",
    "df = pd.read_csv(\n",
    "    'WSH_HYGIENE_BASIC.csv', \n",
    "    header=[0, 2],\n",
    "    index_col=0,\n",
    ")  \n",
    "df.head()"
   ]
  },
  {
   "cell_type": "code",
   "execution_count": null,
   "metadata": {},
   "outputs": [],
   "source": [
    "df.reset_index(col_fill='Ct').head()  # Turn the country index into a regular column."
   ]
  },
  {
   "cell_type": "code",
   "execution_count": null,
   "metadata": {},
   "outputs": [],
   "source": [
    "# https://catalog.data.gov/dataset/demographic-statistics-by-zip-code-acfc9\n",
    "df = pd.read_csv(\n",
    "    'Demographic_Statistics_By_Zip_Code.csv', \n",
    ")  \n",
    "df.head()"
   ]
  },
  {
   "cell_type": "code",
   "execution_count": null,
   "metadata": {},
   "outputs": [],
   "source": [
    "df.set_index('JURISDICTION NAME').head()  # Take a current column and make it an index"
   ]
  },
  {
   "cell_type": "code",
   "execution_count": null,
   "metadata": {},
   "outputs": [],
   "source": [
    "# Aggregations\n",
    "df = pd.read_csv(\n",
    "    'WSH_HYGIENE_BASIC.csv', \n",
    "    header=[0, 2],\n",
    "    index_col=0,\n",
    ")  \n",
    "df.head()"
   ]
  },
  {
   "cell_type": "code",
   "execution_count": null,
   "metadata": {},
   "outputs": [],
   "source": [
    "df.min(axis=1, level=0).head()  # Across all locations..."
   ]
  },
  {
   "cell_type": "code",
   "execution_count": null,
   "metadata": {},
   "outputs": [],
   "source": [
    "df.mean(axis=1, level=1).head()  # For all years..."
   ]
  },
  {
   "cell_type": "markdown",
   "metadata": {},
   "source": [
    "We have enough tools to do some basic analysis!"
   ]
  }
 ],
 "metadata": {
  "kernelspec": {
   "display_name": "Python 3",
   "language": "python",
   "name": "python3"
  },
  "language_info": {
   "codemirror_mode": {
    "name": "ipython",
    "version": 3
   },
   "file_extension": ".py",
   "mimetype": "text/x-python",
   "name": "python",
   "nbconvert_exporter": "python",
   "pygments_lexer": "ipython3",
   "version": "3.7.3"
  }
 },
 "nbformat": 4,
 "nbformat_minor": 2
}
