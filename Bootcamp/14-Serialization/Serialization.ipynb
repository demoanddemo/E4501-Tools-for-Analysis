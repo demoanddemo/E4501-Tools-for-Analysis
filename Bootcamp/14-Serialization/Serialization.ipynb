{
 "cells": [
  {
   "cell_type": "markdown",
   "metadata": {},
   "source": [
    "# Serialization"
   ]
  },
  {
   "cell_type": "markdown",
   "metadata": {},
   "source": [
    "### CSV"
   ]
  },
  {
   "cell_type": "code",
   "execution_count": null,
   "metadata": {},
   "outputs": [],
   "source": [
    "with open('CSV-JSON-XML-CocaCola.csv') as fp:\n",
    "    data = fp.readlines()\n",
    "    \n",
    "data  # looks pretty organized. could potentially write our own parser."
   ]
  },
  {
   "cell_type": "code",
   "execution_count": null,
   "metadata": {},
   "outputs": [],
   "source": [
    "import csv\n",
    "\n",
    "with open('CSV-JSON-XML-CocaCola.csv') as fp:\n",
    "    reader = csv.reader(fp)\n",
    "    data = list(reader)\n",
    "    \n",
    "data  # much better! each column is a broken into its own list element"
   ]
  },
  {
   "cell_type": "code",
   "execution_count": null,
   "metadata": {},
   "outputs": [],
   "source": [
    "with open('CSV-JSON-XML-CocaCola.csv') as fp:\n",
    "    reader = csv.DictReader(fp)\n",
    "    data = list(reader)\n",
    "    \n",
    "data  # The best for data with headers."
   ]
  },
  {
   "cell_type": "code",
   "execution_count": null,
   "metadata": {},
   "outputs": [],
   "source": [
    "import collections"
   ]
  },
  {
   "cell_type": "code",
   "execution_count": null,
   "metadata": {},
   "outputs": [],
   "source": [
    "d = collections.OrderedDict()\n",
    "\n",
    "d[1] = 'a'\n",
    "d[2] = 'b'\n",
    "d[3] = 'c'\n",
    "d"
   ]
  },
  {
   "cell_type": "code",
   "execution_count": null,
   "metadata": {},
   "outputs": [],
   "source": [
    "first_row = data[0]\n",
    "print(first_row['Year'])\n",
    "print(first_row['Assets'])"
   ]
  },
  {
   "cell_type": "code",
   "execution_count": null,
   "metadata": {},
   "outputs": [],
   "source": [
    "import collections\n",
    "\n",
    "# Data is still in strings. Let's convert to correct types.\n",
    "\n",
    "def parse_row(row):\n",
    "    new_row = collections.OrderedDict()\n",
    "    new_row['Year'] = int(row['Year'])\n",
    "    new_row['NOI'] = int(row['NOI'].replace(',', '')) if row['NOI'] else None\n",
    "    new_row['Assets'] = int(row['Assets'].replace(',', '')) if row['Assets'] else None\n",
    "    new_row['Cash'] = int(row['Cash'].replace(',', '')) if row['Cash'] else None\n",
    "    new_row['Share Price'] = float(row['Share Price'].replace(',', '')) if row['Share Price'] else None\n",
    "    return new_row\n",
    "\n",
    "for row in data:\n",
    "    print(parse_row(row))"
   ]
  },
  {
   "cell_type": "code",
   "execution_count": null,
   "metadata": {},
   "outputs": [],
   "source": [
    "# exporting data to txt for easier viewing in Jupyter Notebook.\n",
    "# Same data would be present in a '.csv' file.\n",
    "with open('CSV-JSON-XML-CocaCola-out.csv', 'w') as fp:\n",
    "    writer = csv.writer(fp)\n",
    "    writer.writerow(parse_row(row).keys())  # writer header row\n",
    "    writer.writerows([parse_row(row).values() for row in data])  # write rows of data"
   ]
  },
  {
   "cell_type": "markdown",
   "metadata": {},
   "source": [
    "### JSON"
   ]
  },
  {
   "cell_type": "code",
   "execution_count": null,
   "metadata": {},
   "outputs": [],
   "source": [
    "import json\n",
    "\n",
    "with open('CSV-JSON-XML-superheros.json') as fp:\n",
    "    data = json.load(fp)\n",
    "    \n",
    "data"
   ]
  },
  {
   "cell_type": "code",
   "execution_count": null,
   "metadata": {},
   "outputs": [],
   "source": [
    "type(data)  # JSON objects are loaded as `dict`s"
   ]
  },
  {
   "cell_type": "code",
   "execution_count": null,
   "metadata": {},
   "outputs": [],
   "source": [
    "del data['secretBase']"
   ]
  },
  {
   "cell_type": "code",
   "execution_count": null,
   "metadata": {},
   "outputs": [],
   "source": [
    "data"
   ]
  },
  {
   "cell_type": "code",
   "execution_count": null,
   "metadata": {},
   "outputs": [],
   "source": [
    "# Let's add another superhero\n",
    "data['members'].append(\n",
    "    {\n",
    "        'age': 64,\n",
    "        'name': 'Oprah Winfrey',\n",
    "        'powers': ['Media Proprietor', 'Producer', 'Philanthropist'],\n",
    "        'secretIdentity': 'Oprah Winfrey'\n",
    "    }\n",
    ")"
   ]
  },
  {
   "cell_type": "code",
   "execution_count": null,
   "metadata": {},
   "outputs": [],
   "source": [
    "data"
   ]
  },
  {
   "cell_type": "code",
   "execution_count": null,
   "metadata": {},
   "outputs": [],
   "source": [
    "with open('CSV-JSON-XML-superheros-out.json', 'w') as fp:\n",
    "    json.dump(\n",
    "        obj=data,\n",
    "        fp=fp,\n",
    "        indent=True,  # pretty printing\n",
    "        sort_keys=True,  # sorting for easier lookup by a human\n",
    "    )"
   ]
  },
  {
   "cell_type": "code",
   "execution_count": null,
   "metadata": {},
   "outputs": [],
   "source": [
    "# JSON is much easier when type parsing is important\n",
    "# CSV is better for relational data"
   ]
  },
  {
   "cell_type": "code",
   "execution_count": null,
   "metadata": {},
   "outputs": [],
   "source": [
    "# LEFT HERE FOR SEC1"
   ]
  },
  {
   "cell_type": "markdown",
   "metadata": {},
   "source": [
    "### XML"
   ]
  },
  {
   "cell_type": "code",
   "execution_count": null,
   "metadata": {},
   "outputs": [],
   "source": [
    "from lxml import etree"
   ]
  },
  {
   "cell_type": "code",
   "execution_count": null,
   "metadata": {},
   "outputs": [],
   "source": [
    "with open('CSV-JSON-XML-note.xml') as fp:\n",
    "    data = fp.read()\n",
    "\n",
    "root = etree.fromstring(data)"
   ]
  },
  {
   "cell_type": "code",
   "execution_count": null,
   "metadata": {},
   "outputs": [],
   "source": [
    "print(etree.tostring(root).decode())"
   ]
  },
  {
   "cell_type": "code",
   "execution_count": null,
   "metadata": {},
   "outputs": [],
   "source": [
    "for node in root:\n",
    "    print(node)\n",
    "\n",
    "# Notice \"note\" and \"p\" tags are not present."
   ]
  },
  {
   "cell_type": "code",
   "execution_count": null,
   "metadata": {},
   "outputs": [],
   "source": [
    "tags = root.findall('.//p')  # must use XPath syntax to look up nested tags in tree, eg. \"p\"\n",
    "tags"
   ]
  },
  {
   "cell_type": "code",
   "execution_count": null,
   "metadata": {},
   "outputs": [],
   "source": [
    "tags[0].text"
   ]
  },
  {
   "cell_type": "code",
   "execution_count": null,
   "metadata": {},
   "outputs": [],
   "source": [
    "# Could iterate over whole tree but that is not \n",
    "# very efficient if we just want the \"p\" tags.\n",
    "for element in root.iter():\n",
    "    print(element)"
   ]
  },
  {
   "cell_type": "code",
   "execution_count": null,
   "metadata": {},
   "outputs": [],
   "source": [
    "# where did the \"note\" tag go? It bacame the root object.\n",
    "root"
   ]
  },
  {
   "cell_type": "code",
   "execution_count": null,
   "metadata": {},
   "outputs": [],
   "source": [
    "root.attrib  # get attributes on root"
   ]
  },
  {
   "cell_type": "code",
   "execution_count": null,
   "metadata": {},
   "outputs": [],
   "source": [
    "etree.tostring(root)  # will return bytes!"
   ]
  },
  {
   "cell_type": "code",
   "execution_count": null,
   "metadata": {},
   "outputs": [],
   "source": [
    "with open('CSV-JSON-XML-note-out.xml', 'wb') as fp:  # open the file for writing bytes\n",
    "    fp.write(etree.tostring(root))"
   ]
  },
  {
   "cell_type": "code",
   "execution_count": null,
   "metadata": {},
   "outputs": [],
   "source": [
    "# When to use XML? Never. Try not to use XML unless the project specifically requires it."
   ]
  }
 ],
 "metadata": {
  "kernelspec": {
   "display_name": "Python 3",
   "language": "python",
   "name": "python3"
  },
  "language_info": {
   "codemirror_mode": {
    "name": "ipython",
    "version": 3
   },
   "file_extension": ".py",
   "mimetype": "text/x-python",
   "name": "python",
   "nbconvert_exporter": "python",
   "pygments_lexer": "ipython3",
   "version": "3.7.3"
  }
 },
 "nbformat": 4,
 "nbformat_minor": 2
}
