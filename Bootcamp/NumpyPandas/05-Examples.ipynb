{
 "cells": [
  {
   "cell_type": "markdown",
   "metadata": {},
   "source": [
    "# Examples"
   ]
  },
  {
   "cell_type": "markdown",
   "metadata": {},
   "source": [
    "Let's see if we can answer some questions with Pandas."
   ]
  },
  {
   "cell_type": "code",
   "execution_count": null,
   "metadata": {},
   "outputs": [],
   "source": [
    "import pandas as pd"
   ]
  },
  {
   "cell_type": "markdown",
   "metadata": {},
   "source": [
    "- What country has the great hand washing percentage total?\n",
    "- What country has the lowest?\n",
    "- What country has the great difference in percentage between their Urban and Rural locations?\n",
    "- What country has the lowest difference in percentage between their Urban and Rural locations?\n",
    "- What country has seen the greatest increase in total percentage in consecutive years?\n",
    "- What is the average \"Total\" percentage over the past 5 years?"
   ]
  },
  {
   "cell_type": "code",
   "execution_count": null,
   "metadata": {},
   "outputs": [],
   "source": [
    "# Population with basic handwashing facilities at home (%)\n",
    "df = pd.read_csv(\n",
    "    'WSH_HYGIENE_BASIC.csv', \n",
    "    header=[0, 2],\n",
    "    index_col=0,\n",
    ")  \n",
    "df.head()"
   ]
  },
  {
   "cell_type": "code",
   "execution_count": null,
   "metadata": {},
   "outputs": [],
   "source": [
    "# What country has the great hand washing percentage total?\n",
    "df.loc[:, '2015'].head()"
   ]
  },
  {
   "cell_type": "code",
   "execution_count": null,
   "metadata": {},
   "outputs": [],
   "source": [
    "df.loc[:, ('2015', 'Total')].head()"
   ]
  },
  {
   "cell_type": "code",
   "execution_count": null,
   "metadata": {},
   "outputs": [],
   "source": [
    "df.loc[:, ('2015', 'Total')].max()  # hmm, no country? Well, there might be multiple that have same."
   ]
  },
  {
   "cell_type": "code",
   "execution_count": null,
   "metadata": {},
   "outputs": [],
   "source": [
    "slice_ = df.loc[:, ('2015', 'Total')] == df.loc[:, ('2015', 'Total')].max()\n",
    "df.loc[slice_, ('2015', 'Total')]"
   ]
  },
  {
   "cell_type": "code",
   "execution_count": null,
   "metadata": {},
   "outputs": [],
   "source": [
    "# Lowest? \n",
    "slice_ = df.loc[:, ('2015', 'Total')] == df.loc[:, ('2015', 'Total')].min()\n",
    "df.loc[slice_, ('2015', 'Total')]"
   ]
  },
  {
   "cell_type": "code",
   "execution_count": null,
   "metadata": {},
   "outputs": [],
   "source": [
    "# What country has the great difference in percentage between their Urban and Rural locations?\n",
    "df.loc[:, '2015'].head()"
   ]
  },
  {
   "cell_type": "code",
   "execution_count": null,
   "metadata": {},
   "outputs": [],
   "source": [
    "df_diff = df.loc[:, ('2015', 'Urban')] - df.loc[:, ('2015', 'Rural')]  # Make a new df! Don't overwrite your original.\n",
    "df_diff.head()"
   ]
  },
  {
   "cell_type": "code",
   "execution_count": null,
   "metadata": {},
   "outputs": [],
   "source": [
    "df_diff[df_diff == df_diff.max()]"
   ]
  },
  {
   "cell_type": "code",
   "execution_count": null,
   "metadata": {},
   "outputs": [],
   "source": [
    "df_diff[df_diff == df_diff.min()]  # São Tomé and Príncipe is a West African Island"
   ]
  },
  {
   "cell_type": "code",
   "execution_count": null,
   "metadata": {},
   "outputs": [],
   "source": [
    "# What country has seen the greatest increase in total percentage in consecutive years?\n",
    "index = pd.IndexSlice[:, 'Total']\n",
    "df_totals = df.loc[:, index]\n",
    "df_totals.head()"
   ]
  },
  {
   "cell_type": "code",
   "execution_count": null,
   "metadata": {},
   "outputs": [],
   "source": [
    "df_totals = df_totals.droplevel(1, axis=1)\n",
    "df_totals.head()"
   ]
  },
  {
   "cell_type": "code",
   "execution_count": null,
   "metadata": {},
   "outputs": [],
   "source": [
    "df_totals.diff(axis=1).head()  # new method!\n",
    "# Need to keep in mind that negative indicates a positive differences"
   ]
  },
  {
   "cell_type": "code",
   "execution_count": null,
   "metadata": {},
   "outputs": [],
   "source": [
    "df_totals.diff(axis=1).min(axis=1).head()"
   ]
  },
  {
   "cell_type": "code",
   "execution_count": null,
   "metadata": {},
   "outputs": [],
   "source": [
    "df_max_diff = df_totals.diff(axis=1).min(axis=1)\n",
    "df_max_diff.head()"
   ]
  },
  {
   "cell_type": "code",
   "execution_count": null,
   "metadata": {},
   "outputs": [],
   "source": [
    "series_min = df_max_diff[df_max_diff == df_max_diff.min()]\n",
    "series_min.head()"
   ]
  },
  {
   "cell_type": "code",
   "execution_count": null,
   "metadata": {},
   "outputs": [],
   "source": [
    "series_min.index"
   ]
  },
  {
   "cell_type": "code",
   "execution_count": null,
   "metadata": {},
   "outputs": [],
   "source": [
    "df_totals.diff(axis=1).loc[series_min.index]"
   ]
  },
  {
   "cell_type": "code",
   "execution_count": null,
   "metadata": {},
   "outputs": [],
   "source": [
    "df_madagascar = df_totals.diff(axis=1).loc[series_min.index].T\n",
    "df_madagascar.head()"
   ]
  },
  {
   "cell_type": "code",
   "execution_count": null,
   "metadata": {},
   "outputs": [],
   "source": [
    "(df_madagascar == series_min).head()"
   ]
  },
  {
   "cell_type": "code",
   "execution_count": null,
   "metadata": {},
   "outputs": [],
   "source": [
    "df_madagascar[df_madagascar == series_min]  # hmmm, NaNs"
   ]
  },
  {
   "cell_type": "code",
   "execution_count": null,
   "metadata": {},
   "outputs": [],
   "source": [
    "# Extra work since series_min is not a single number and df_madagascar is a fully fleged DataFrame\n",
    "df_madagascar[df_madagascar.loc[:, 'Madagascar'] == series_min.values.mean()]"
   ]
  },
  {
   "cell_type": "code",
   "execution_count": null,
   "metadata": {},
   "outputs": [],
   "source": [
    "# What is the average \"Total\" percentage over the past 5 years?\n",
    "df_five_year = df_totals.loc[:, '2015':'2011']\n",
    "df_five_year.head()"
   ]
  },
  {
   "cell_type": "code",
   "execution_count": null,
   "metadata": {},
   "outputs": [],
   "source": [
    "df_five_year.mean(axis=1).head()"
   ]
  },
  {
   "cell_type": "code",
   "execution_count": null,
   "metadata": {},
   "outputs": [],
   "source": [
    "df_five_year.fillna(df_five_year.mean(axis=1)).head()  # hmm, that didn't fill the NaN"
   ]
  },
  {
   "cell_type": "code",
   "execution_count": null,
   "metadata": {},
   "outputs": [],
   "source": [
    "df_five_year.fillna(df_five_year.mean(axis=1), axis=1).head()  # Not NotImplementedError!"
   ]
  },
  {
   "cell_type": "code",
   "execution_count": null,
   "metadata": {},
   "outputs": [],
   "source": [
    "df_five_year.T.fillna(df_five_year.T.mean()).T\n",
    "# Still some NaNs but that's because there was no value in the row. \n",
    "# Let's remove those."
   ]
  },
  {
   "cell_type": "code",
   "execution_count": null,
   "metadata": {},
   "outputs": [],
   "source": [
    "df_cleaned = df_five_year.T.fillna(df_five_year.T.mean()).T.dropna()\n",
    "df_cleaned.head()"
   ]
  },
  {
   "cell_type": "code",
   "execution_count": null,
   "metadata": {},
   "outputs": [],
   "source": [
    "df_cleaned.mean()  # Looks like we are trending up."
   ]
  },
  {
   "cell_type": "code",
   "execution_count": null,
   "metadata": {},
   "outputs": [],
   "source": [
    "%matplotlib inline\n",
    "\n",
    "df_cleaned.sort_index(axis=1).mean().plot()"
   ]
  }
 ],
 "metadata": {
  "kernelspec": {
   "display_name": "Python 3",
   "language": "python",
   "name": "python3"
  },
  "language_info": {
   "codemirror_mode": {
    "name": "ipython",
    "version": 3
   },
   "file_extension": ".py",
   "mimetype": "text/x-python",
   "name": "python",
   "nbconvert_exporter": "python",
   "pygments_lexer": "ipython3",
   "version": "3.6.7"
  }
 },
 "nbformat": 4,
 "nbformat_minor": 2
}
