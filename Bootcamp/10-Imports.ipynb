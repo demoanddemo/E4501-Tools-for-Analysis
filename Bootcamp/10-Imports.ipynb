{
 "cells": [
  {
   "cell_type": "markdown",
   "metadata": {},
   "source": [
    "# Imports"
   ]
  },
  {
   "cell_type": "markdown",
   "metadata": {},
   "source": [
    "#### Built-in Functions\n",
    "\n",
    "https://docs.python.org/3/library/functions.html"
   ]
  },
  {
   "cell_type": "code",
   "execution_count": 1,
   "metadata": {},
   "outputs": [
    {
     "data": {
      "text/plain": [
       "2"
      ]
     },
     "execution_count": 1,
     "metadata": {},
     "output_type": "execute_result"
    }
   ],
   "source": [
    "max(1, 2)"
   ]
  },
  {
   "cell_type": "code",
   "execution_count": 2,
   "metadata": {},
   "outputs": [
    {
     "name": "stdout",
     "output_type": "stream",
     "text": [
      "Available!\n"
     ]
    }
   ],
   "source": [
    "print('Available!')"
   ]
  },
  {
   "cell_type": "markdown",
   "metadata": {},
   "source": [
    "#### Standard Library\n",
    "\n",
    "Functions, modulues, packages that are not in built-ins but do not need installation past interpreter installation.\n",
    "\n",
    "NB. Standard Library includes built-ins\n",
    "\n",
    "https://docs.python.org/3/library/"
   ]
  },
  {
   "cell_type": "code",
   "execution_count": 5,
   "metadata": {},
   "outputs": [
    {
     "data": {
      "text/plain": [
       "6"
      ]
     },
     "execution_count": 5,
     "metadata": {},
     "output_type": "execute_result"
    }
   ],
   "source": [
    "import random\n",
    "\n",
    "random.randint(1, 10)"
   ]
  },
  {
   "cell_type": "code",
   "execution_count": 10,
   "metadata": {},
   "outputs": [
    {
     "data": {
      "text/plain": [
       "1561236899.120587"
      ]
     },
     "execution_count": 10,
     "metadata": {},
     "output_type": "execute_result"
    }
   ],
   "source": [
    "import time\n",
    "\n",
    "time.time()  # Unix timestamp"
   ]
  },
  {
   "cell_type": "markdown",
   "metadata": {},
   "source": [
    "#### 3rd Party Libraries\n",
    "\n",
    "https://pypi.org/"
   ]
  },
  {
   "cell_type": "code",
   "execution_count": 14,
   "metadata": {},
   "outputs": [
    {
     "name": "stdout",
     "output_type": "stream",
     "text": [
      "Collecting Django\n",
      "  Using cached https://files.pythonhosted.org/packages/eb/4b/743d5008fc7432c714d753e1fc7ee56c6a776dc566cc6cfb4136d46cdcbb/Django-2.2.2-py3-none-any.whl\n",
      "Collecting sqlparse (from Django)\n",
      "  Using cached https://files.pythonhosted.org/packages/ef/53/900f7d2a54557c6a37886585a91336520e5539e3ae2423ff1102daf4f3a7/sqlparse-0.3.0-py2.py3-none-any.whl\n",
      "Requirement already satisfied: pytz in /Users/paul/.pyenv/versions/anaconda3-2019.03/lib/python3.7/site-packages (from Django) (2018.9)\n",
      "Installing collected packages: sqlparse, Django\n",
      "Successfully installed Django-2.2.2 sqlparse-0.3.0\n"
     ]
    }
   ],
   "source": [
    "!pip install Django # Anaconda comes with a lot of 3rd party packages already installed"
   ]
  },
  {
   "cell_type": "code",
   "execution_count": 15,
   "metadata": {},
   "outputs": [
    {
     "name": "stdout",
     "output_type": "stream",
     "text": [
      "Collecting catzzz\n",
      "  Using cached https://files.pythonhosted.org/packages/8d/81/13c2e669c4121b8ef294b61ce684ae74bb4fa09ed2bc741db8d9181066bd/catzzz-0.1.6.tar.gz\n",
      "Building wheels for collected packages: catzzz\n",
      "  Building wheel for catzzz (setup.py) ... \u001b[?25ldone\n",
      "\u001b[?25h  Stored in directory: /Users/paul/Library/Caches/pip/wheels/ac/54/70/42f9f707eeb27fe441593009d079cf7f91bbe51f552a101fb6\n",
      "Successfully built catzzz\n",
      "Installing collected packages: catzzz\n",
      "Successfully installed catzzz-0.1.6\n"
     ]
    }
   ],
   "source": [
    "!pip install catzzz"
   ]
  },
  {
   "cell_type": "code",
   "execution_count": 16,
   "metadata": {},
   "outputs": [
    {
     "name": "stdout",
     "output_type": "stream",
     "text": [
      "\n",
      "                  ;,_            ,\n",
      "                 _uP~\"b          d\"u,\n",
      "                dP'   \"b       ,d\"  \"o\n",
      "               d\"    , `b     d\"'    \"b\n",
      "              l] [    \" `l,  d\"       lb\n",
      "              Ol ?     \"  \"b`\"=uoqo,_  \"l\n",
      "            ,dBb \"b        \"b,    `\"~~TObup,_\n",
      "          ,d\" (db.`\"         \"\"     \"tbc,_ `~\"Yuu,_\n",
      "        .d\" l`T'  '=                      ~     `\"\"Yu,\n",
      "      ,dO` gP,                           `u,   b,_  \"b7\n",
      "     d?' ,d\" l,                           `\"b,_ `~b  \"1\n",
      "   ,8i' dl   `l                 ,ggQOV\",dbgq,._\"  `l  lb\n",
      "  .df' (O,    \"             ,ggQY\"~  , @@@@@d\"bd~  `b \"1\n",
      " .df'   `\"           -=@QgpOY\"\"     (b  @@@@P db    `Lp\"b,\n",
      ".d(                  _               \"ko \"=d_,Q`  ,_  \"  \"b,\n",
      "Ql         .         `\"qo,._          \"tQo,_`\"\"bo ;tb,    `\"b,\n",
      "qQ         |L           ~\"QQQgggc,_.,dObc,opooO  `\"~~\";.   __,7,\n",
      "qp         t\\io,_           `~\"TOOggQV\"\"\"\"        _,dg,_ =PIQHib.\n",
      "`qp        `Q[\"tQQQo,_                          ,pl{QOP\"'   7AFR`\n",
      "  `         `tb  '\"\"tQQQg,_             p\" \"b   `       .;-.`Vl'\n",
      "             \"Yb      `\"tQOOo,__    _,edb    ` .__   /`/'|  |b;=;.__\n",
      "                           `\"tQQQOOOOP\"\"`\"\\QV;qQObob\"`-._`\\_~~-._\n",
      "                                \"\"\"\"    ._        /   | |oP\"\\_   ~\\ ~\\_~\\\n",
      "                                        `~\"\\ic,qggddOOP\"|  |  ~\\   `\\~-._\n",
      "                                          ,qP`\"\"\"|\"   | `\\ `;   `\\   `\\\n",
      "                               _        _,p\"     |    |   `\\`;    |    |\n",
      "       unknown                 \"boo,._dP\"       `\\_  `\\    `\\|   `\\   ;\n",
      "                                 `\"7tY~'            `\\  `\\    `|_   |\n",
      "                                                      `~\\  |\n",
      "\n",
      "\n",
      "   ____\n",
      "  (.   \\\n",
      "    \\  |\n",
      "     \\ |___(\\--/)\n",
      "   __/    (  . . )\n",
      "  \"'._.    '-.O.'\n",
      "       '-.  \\ \"|\\\n",
      "          '.,,/'.,,mrf\n",
      "\n"
     ]
    }
   ],
   "source": [
    "import catzzz"
   ]
  },
  {
   "cell_type": "code",
   "execution_count": null,
   "metadata": {},
   "outputs": [],
   "source": []
  }
 ],
 "metadata": {
  "kernelspec": {
   "display_name": "Python 3",
   "language": "python",
   "name": "python3"
  },
  "language_info": {
   "codemirror_mode": {
    "name": "ipython",
    "version": 3
   },
   "file_extension": ".py",
   "mimetype": "text/x-python",
   "name": "python",
   "nbconvert_exporter": "python",
   "pygments_lexer": "ipython3",
   "version": "3.6.7"
  }
 },
 "nbformat": 4,
 "nbformat_minor": 2
}
