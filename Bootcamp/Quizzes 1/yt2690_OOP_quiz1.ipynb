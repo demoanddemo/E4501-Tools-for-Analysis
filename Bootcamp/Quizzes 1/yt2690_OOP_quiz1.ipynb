{
 "cells": [
  {
   "cell_type": "markdown",
   "metadata": {},
   "source": [
    "**Q**: Create a class called `Human`. A `Human` should be initialized with a first and last name.  \n",
    "\n",
    "Add a method to the `Human` class that is called `hello`. The hello class should take a first name and return a string that includes both first names in a greeting as shown below.\n",
    "\n",
    "Eg.\n",
    "\n",
    "```python\n",
    "h = Human('Mike', 'Portello')\n",
    "h.hello('Susan')\n",
    "\"Hello Susan, I'm Mike!\"\n",
    "```"
   ]
  },
  {
   "cell_type": "code",
   "execution_count": 1,
   "metadata": {
    "deletable": false,
    "nbgrader": {
     "checksum": "f7791a40bebbd0441479999c6175e34b",
     "grade": false,
     "grade_id": "cell-3df60e0c9dea126a",
     "locked": false,
     "schema_version": 1,
     "solution": true
    }
   },
   "outputs": [],
   "source": [
    "# YOUR CODE HERE\n",
    "class Human(object):\n",
    "    def __init__(self, first, last):\n",
    "        self.first = first\n",
    "        self.last = last\n",
    "        \n",
    "    def hello(self, first_name):\n",
    "        return \"Hello %s, I'm %s\" % (first_name, self.first)\n"
   ]
  },
  {
   "cell_type": "code",
   "execution_count": 3,
   "metadata": {},
   "outputs": [
    {
     "data": {
      "text/plain": [
       "\"Hello Susan, I'm Mike\""
      ]
     },
     "execution_count": 3,
     "metadata": {},
     "output_type": "execute_result"
    }
   ],
   "source": [
    "h = Human(\"Mike\", \"Portello\")\n",
    "h.hello(\"Susan\")"
   ]
  },
  {
   "cell_type": "code",
   "execution_count": null,
   "metadata": {
    "deletable": false,
    "editable": false,
    "nbgrader": {
     "checksum": "be5c1f6a1befbfb9df77f455358af2d3",
     "grade": true,
     "grade_id": "cell-f4e672359611cc33",
     "locked": true,
     "points": 0,
     "schema_version": 1,
     "solution": false
    }
   },
   "outputs": [],
   "source": []
  },
  {
   "cell_type": "code",
   "execution_count": null,
   "metadata": {
    "deletable": false,
    "editable": false,
    "nbgrader": {
     "checksum": "1a6d5db9c04428f783e728ab1598e7d9",
     "grade": true,
     "grade_id": "cell-66e478ebde0adf7e",
     "locked": true,
     "points": 0,
     "schema_version": 1,
     "solution": false
    }
   },
   "outputs": [],
   "source": []
  }
 ],
 "metadata": {
  "kernelspec": {
   "display_name": "Python 3",
   "language": "python",
   "name": "python3"
  },
  "language_info": {
   "codemirror_mode": {
    "name": "ipython",
    "version": 3
   },
   "file_extension": ".py",
   "mimetype": "text/x-python",
   "name": "python",
   "nbconvert_exporter": "python",
   "pygments_lexer": "ipython3",
   "version": "3.7.3"
  }
 },
 "nbformat": 4,
 "nbformat_minor": 2
}
