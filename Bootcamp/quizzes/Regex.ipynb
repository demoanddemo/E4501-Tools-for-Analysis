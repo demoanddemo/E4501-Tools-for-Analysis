{
 "cells": [
  {
   "cell_type": "markdown",
   "metadata": {},
   "source": [
    "**Q**: Write function to return a regex pattern for use in `re.search` or `re.findall`. The pattern should match against Intel® Core™ Processor numbers. \n",
    "\n",
    "Examples:\n",
    "\n",
    "- i7-7500\n",
    "- i7-7Y75\n",
    "- i6-6589\n",
    "\n",
    "The part before the dash is the \"brand modifier\". The first number after the dash is the \"gen indicator\". The following three digits are the \"SKU digits\". The returned pattern should capture each of these groups into their own unnamed group.\n",
    "\n",
    "[1 point]"
   ]
  },
  {
   "cell_type": "code",
   "execution_count": null,
   "metadata": {
    "deletable": false,
    "nbgrader": {
     "checksum": "c87a9fccdfa9e1b2652b589f179bd3b3",
     "grade": false,
     "grade_id": "cell-313c952dc4c6325c",
     "locked": false,
     "schema_version": 1,
     "solution": true
    }
   },
   "outputs": [],
   "source": [
    "def get_pattern():\n",
    "    # YOUR CODE HERE\n",
    "    raise NotImplementedError()"
   ]
  },
  {
   "cell_type": "code",
   "execution_count": null,
   "metadata": {
    "deletable": false,
    "editable": false,
    "nbgrader": {
     "checksum": "5ce32cd79b714eba30ddc113f39ce8f0",
     "grade": true,
     "grade_id": "cell-b79aadd82854775c",
     "locked": true,
     "points": 0,
     "schema_version": 1,
     "solution": false
    }
   },
   "outputs": [],
   "source": []
  },
  {
   "cell_type": "code",
   "execution_count": null,
   "metadata": {
    "deletable": false,
    "editable": false,
    "nbgrader": {
     "checksum": "ba3e88a8e935e882097608185b190a55",
     "grade": true,
     "grade_id": "cell-b998cf5b0411405c",
     "locked": true,
     "points": 0,
     "schema_version": 1,
     "solution": false
    }
   },
   "outputs": [],
   "source": []
  },
  {
   "cell_type": "code",
   "execution_count": null,
   "metadata": {
    "deletable": false,
    "editable": false,
    "nbgrader": {
     "checksum": "e4d9a9d0763f5d3647317bc03f2e25cf",
     "grade": true,
     "grade_id": "cell-e5e03c5aec9b5a5f",
     "locked": true,
     "points": 0,
     "schema_version": 1,
     "solution": false
    }
   },
   "outputs": [],
   "source": []
  },
  {
   "cell_type": "code",
   "execution_count": null,
   "metadata": {
    "deletable": false,
    "editable": false,
    "nbgrader": {
     "checksum": "58fcda589e6039fe6e1805c78869c9b5",
     "grade": true,
     "grade_id": "cell-24244e29d7487600",
     "locked": true,
     "points": 0,
     "schema_version": 1,
     "solution": false
    }
   },
   "outputs": [],
   "source": []
  }
 ],
 "metadata": {
  "kernelspec": {
   "display_name": "Python 3",
   "language": "python",
   "name": "python3"
  },
  "language_info": {
   "codemirror_mode": {
    "name": "ipython",
    "version": 3
   },
   "file_extension": ".py",
   "mimetype": "text/x-python",
   "name": "python",
   "nbconvert_exporter": "python",
   "pygments_lexer": "ipython3",
   "version": "3.7.3"
  }
 },
 "nbformat": 4,
 "nbformat_minor": 2
}
