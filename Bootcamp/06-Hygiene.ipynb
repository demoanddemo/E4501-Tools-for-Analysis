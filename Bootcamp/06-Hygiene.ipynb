{
 "cells": [
  {
   "cell_type": "markdown",
   "metadata": {},
   "source": [
    "# Function Hygiene"
   ]
  },
  {
   "cell_type": "markdown",
   "metadata": {},
   "source": [
    "- Keep functions less than 100 lines long.\n",
    "\n",
    "- Cyclomatic Complexity: the number of independent paths through a piece of logic.\n",
    "\n",
    "```python\n",
    "def func1(arg):  # CC of 2\n",
    "    if arg:\n",
    "        return 1\n",
    "        \n",
    "    return 2\n",
    "\n",
    "\n",
    "def func2(arg):  # CC of 4\n",
    "    if arg == 'a':\n",
    "        return 1\n",
    "        \n",
    "    if arg in ('b', 'c'):\n",
    "        if arg == 'b':\n",
    "            return 2\n",
    "        else:\n",
    "            return 3\n",
    "        \n",
    "    return 4\n",
    "```\n",
    "\n",
    "Shoot for Cyclomatic Complexity < 10.\n",
    "\n",
    "- Consistently return `None` or don't use `return`\n",
    "\n",
    "```python\n",
    "def ok_func(arg):\n",
    "    if arg == 1:\n",
    "        return 2\n",
    "\n",
    "    return\n",
    "\n",
    "def better_func(arg):\n",
    "    if arg == 1:\n",
    "        return 2\n",
    "\n",
    "    return None\n",
    "```"
   ]
  }
 ],
 "metadata": {
  "kernelspec": {
   "display_name": "Python 3",
   "language": "python",
   "name": "python3"
  },
  "language_info": {
   "codemirror_mode": {
    "name": "ipython",
    "version": 3
   },
   "file_extension": ".py",
   "mimetype": "text/x-python",
   "name": "python",
   "nbconvert_exporter": "python",
   "pygments_lexer": "ipython3",
   "version": "3.7.3"
  }
 },
 "nbformat": 4,
 "nbformat_minor": 2
}
