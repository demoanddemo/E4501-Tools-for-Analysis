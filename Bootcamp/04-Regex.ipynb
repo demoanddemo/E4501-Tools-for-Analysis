{
 "cells": [
  {
   "cell_type": "markdown",
   "metadata": {},
   "source": [
    "# Regular Expressions (Regex)\n",
    "\n",
    "Advanced Pattern Matching\n",
    "\n",
    "- https://en.wikipedia.org/wiki/Regular_expression\n",
    "- https://docs.python.org/3/library/re.html"
   ]
  },
  {
   "cell_type": "code",
   "execution_count": 2,
   "metadata": {},
   "outputs": [],
   "source": [
    "import re"
   ]
  },
  {
   "cell_type": "code",
   "execution_count": 6,
   "metadata": {},
   "outputs": [
    {
     "data": {
      "text/plain": [
       "(<_sre.SRE_Match object; span=(5, 17), match='is my number'>, 'is my number')"
      ]
     },
     "execution_count": 6,
     "metadata": {},
     "output_type": "execute_result"
    }
   ],
   "source": [
    "pattern = r'is my number'\n",
    "string = 'This is my number 111-456-7890... Gimme a ring.'\n",
    "match = re.search(pattern, string)  # Search anywhere in the string for a match\n",
    "match, match.group(0)"
   ]
  },
  {
   "cell_type": "code",
   "execution_count": 7,
   "metadata": {},
   "outputs": [
    {
     "name": "stdout",
     "output_type": "stream",
     "text": [
      "None\n"
     ]
    }
   ],
   "source": [
    "pattern = r'^is my number'  # ^ matches the beginning of the string\n",
    "string = 'This is my number 111-456-7890... Gimme a ring.'\n",
    "match = re.search(pattern, string)\n",
    "print(match)"
   ]
  },
  {
   "cell_type": "code",
   "execution_count": 8,
   "metadata": {},
   "outputs": [
    {
     "data": {
      "text/plain": [
       "<_sre.SRE_Match object; span=(42, 47), match='ring.'>"
      ]
     },
     "execution_count": 8,
     "metadata": {},
     "output_type": "execute_result"
    }
   ],
   "source": [
    "pattern = r'ring.$'  # $ matches the end of the string\n",
    "string = 'This is my number 111-456-7890... Gimme a ring.'\n",
    "match = re.search(pattern, string)\n",
    "match"
   ]
  },
  {
   "cell_type": "code",
   "execution_count": 9,
   "metadata": {},
   "outputs": [
    {
     "name": "stdout",
     "output_type": "stream",
     "text": [
      "None\n"
     ]
    }
   ],
   "source": [
    "pattern = r'elephant'\n",
    "string = 'This is my number 111-456-7890... Gimme a ring.'\n",
    "match = re.search(pattern, string)\n",
    "print(match)  # None is retruned if no match is found"
   ]
  },
  {
   "cell_type": "code",
   "execution_count": 9,
   "metadata": {},
   "outputs": [
    {
     "data": {
      "text/plain": [
       "(<re.Match object; span=(2, 4), match='GC'>, 'GC')"
      ]
     },
     "execution_count": 9,
     "metadata": {},
     "output_type": "execute_result"
    }
   ],
   "source": [
    "# * matches zero or more of the preceding characters\n",
    "pattern = r'GCA*'\n",
    "string = 'ATGCGCATTTTGCAAAGATTTCCAAGAGAGTTT'\n",
    "match = re.search(pattern, string)  # NB. search will return the first matching string\n",
    "match, match.group(0)"
   ]
  },
  {
   "cell_type": "code",
   "execution_count": 4,
   "metadata": {},
   "outputs": [
    {
     "data": {
      "text/plain": [
       "<re.Match object; span=(10, 13), match='GCA'>"
      ]
     },
     "execution_count": 4,
     "metadata": {},
     "output_type": "execute_result"
    }
   ],
   "source": [
    "# + matches 1 or more of the preceding characters\n",
    "pattern = r'GCA+'\n",
    "string = '123456ATGCGCATTTTGCAAAGATTTCCAAGAGAGTTT'\n",
    "match = re.search(pattern, string)\n",
    "match"
   ]
  },
  {
   "cell_type": "code",
   "execution_count": 12,
   "metadata": {},
   "outputs": [
    {
     "data": {
      "text/plain": [
       "<re.Match object; span=(4, 7), match='GCA'>"
      ]
     },
     "execution_count": 12,
     "metadata": {},
     "output_type": "execute_result"
    }
   ],
   "source": [
    "# {n} matches n of the preceding characters\n",
    "pattern = r'GCA{1,2}'\n",
    "string = 'ATGCGCATTTTGCAAAGATTTCCAAGAGAGTTT'\n",
    "match = re.search(pattern, string)\n",
    "match"
   ]
  },
  {
   "cell_type": "code",
   "execution_count": 13,
   "metadata": {},
   "outputs": [
    {
     "data": {
      "text/plain": [
       "<re.Match object; span=(0, 18), match='This is my number '>"
      ]
     },
     "execution_count": 13,
     "metadata": {},
     "output_type": "execute_result"
    }
   ],
   "source": [
    "# [] match characters in set of characters.\n",
    "pattern = r'[a-zA-Z\\[ ]+'  # Match several characters at a time\n",
    "string = 'This is my number 111-456-7890... Gimme a ring.'\n",
    "match = re.search(pattern, string)\n",
    "match"
   ]
  },
  {
   "cell_type": "code",
   "execution_count": 15,
   "metadata": {},
   "outputs": [
    {
     "data": {
      "text/plain": [
       "<_sre.SRE_Match object; span=(18, 21), match='111'>"
      ]
     },
     "execution_count": 15,
     "metadata": {},
     "output_type": "execute_result"
    }
   ],
   "source": [
    "pattern = r'[0-9]+'\n",
    "string = 'This is my number 111-456-7890... Gimme a ring.'\n",
    "match = re.search(pattern, string)\n",
    "match"
   ]
  },
  {
   "cell_type": "code",
   "execution_count": 16,
   "metadata": {},
   "outputs": [
    {
     "data": {
      "text/plain": [
       "<_sre.SRE_Match object; span=(18, 30), match='111-456-7890'>"
      ]
     },
     "execution_count": 16,
     "metadata": {},
     "output_type": "execute_result"
    }
   ],
   "source": [
    "pattern = r'[0-9-]+'\n",
    "string = 'This is my number 111-456-7890... Gimme a ring.'\n",
    "match = re.search(pattern, string)\n",
    "match"
   ]
  },
  {
   "cell_type": "code",
   "execution_count": 24,
   "metadata": {},
   "outputs": [
    {
     "data": {
      "text/plain": [
       "<_sre.SRE_Match object; span=(0, 0), match=''>"
      ]
     },
     "execution_count": 24,
     "metadata": {},
     "output_type": "execute_result"
    }
   ],
   "source": [
    "pattern = r'[0-9]*'  \n",
    "# NB. If re.search can not immediately start matching AND matching an empty string is an option, \n",
    "# re.search will match the empty string.\n",
    "string = 'This is my number 111-456-7890... Gimme a ring.'\n",
    "match = re.search(pattern, string)\n",
    "match"
   ]
  },
  {
   "cell_type": "code",
   "execution_count": 26,
   "metadata": {},
   "outputs": [
    {
     "data": {
      "text/plain": [
       "<_sre.SRE_Match object; span=(0, 1), match='3'>"
      ]
     },
     "execution_count": 26,
     "metadata": {},
     "output_type": "execute_result"
    }
   ],
   "source": [
    "pattern = r'[0-9]*'  \n",
    "# NB. If re.search can not immediately start matching AND matching an empty string is an option, \n",
    "# re.search will match the empty string.\n",
    "string = '3This is my number 111-456-7890... Gimme a ring.'\n",
    "match = re.search(pattern, string)\n",
    "match"
   ]
  },
  {
   "cell_type": "code",
   "execution_count": 25,
   "metadata": {},
   "outputs": [
    {
     "data": {
      "text/plain": [
       "<_sre.SRE_Match object; span=(18, 21), match='111'>"
      ]
     },
     "execution_count": 25,
     "metadata": {},
     "output_type": "execute_result"
    }
   ],
   "source": [
    "pattern = r'[0-9]+'  \n",
    "# NB. If re.search can not immediately start matching AND matching an empty string is an option, \n",
    "# re.search will match the empty string.\n",
    "string = 'This is my number 111-456-7890... Gimme a ring.'\n",
    "match = re.search(pattern, string)\n",
    "match"
   ]
  },
  {
   "cell_type": "code",
   "execution_count": 27,
   "metadata": {},
   "outputs": [
    {
     "data": {
      "text/plain": [
       "<_sre.SRE_Match object; span=(0, 0), match=''>"
      ]
     },
     "execution_count": 27,
     "metadata": {},
     "output_type": "execute_result"
    }
   ],
   "source": [
    "pattern = r'[a-zA-Z ]*'\n",
    "# NB. If re.search can not immediately start matching AND matching an empty string is an option, \n",
    "# re.search will match the empty string.\n",
    "string = '111-456-7890 This is my number... Gimme a ring.'\n",
    "match = re.search(pattern, string)\n",
    "match"
   ]
  },
  {
   "cell_type": "code",
   "execution_count": 4,
   "metadata": {},
   "outputs": [
    {
     "data": {
      "text/plain": [
       "<_sre.SRE_Match object; span=(0, 5), match='This '>"
      ]
     },
     "execution_count": 4,
     "metadata": {},
     "output_type": "execute_result"
    }
   ],
   "source": [
    "pattern = r'\\w+'  # \\w is a short hand for [a-zA-Z0-9_]\n",
    "string = 'This is my number 111-456-7890... Gimme a ring.'\n",
    "match = re.search(pattern, string)\n",
    "match"
   ]
  },
  {
   "cell_type": "code",
   "execution_count": 5,
   "metadata": {},
   "outputs": [
    {
     "data": {
      "text/plain": [
       "<_sre.SRE_Match object; span=(0, 21), match='This is my number 111'>"
      ]
     },
     "execution_count": 5,
     "metadata": {},
     "output_type": "execute_result"
    }
   ],
   "source": [
    "pattern = r'[\\w ]+'  # \\w is a short hand for [a-zA-Z0-9_]\n",
    "string = 'This is my number 111-456-7890... Gimme a ring.'\n",
    "match = re.search(pattern, string)\n",
    "match"
   ]
  },
  {
   "cell_type": "code",
   "execution_count": 6,
   "metadata": {},
   "outputs": [
    {
     "data": {
      "text/plain": [
       "<_sre.SRE_Match object; span=(0, 1), match=' '>"
      ]
     },
     "execution_count": 6,
     "metadata": {},
     "output_type": "execute_result"
    }
   ],
   "source": [
    "pattern = r'\\W+'  # \\W is a short hand for the inverse of \\w [^a-zA-Z0-9_]\n",
    "string = ' This_is my number 111-456-7890... Gimme a ring.'\n",
    "match = re.search(pattern, string)  # Matches first empty space\n",
    "match  "
   ]
  },
  {
   "cell_type": "code",
   "execution_count": 7,
   "metadata": {},
   "outputs": [
    {
     "data": {
      "text/plain": [
       "<_sre.SRE_Match object; span=(18, 21), match='111'>"
      ]
     },
     "execution_count": 7,
     "metadata": {},
     "output_type": "execute_result"
    }
   ],
   "source": [
    "pattern = r'\\d+'  # \\d is a short hand for [0-9]\n",
    "string = 'This is my number 111-456-7890... Gimme a ring.'\n",
    "match = re.search(pattern, string)\n",
    "match"
   ]
  },
  {
   "cell_type": "code",
   "execution_count": 8,
   "metadata": {},
   "outputs": [
    {
     "data": {
      "text/plain": [
       "<_sre.SRE_Match object; span=(0, 18), match='This is my number '>"
      ]
     },
     "execution_count": 8,
     "metadata": {},
     "output_type": "execute_result"
    }
   ],
   "source": [
    "pattern = r'\\D+'  # \\D is a short hand for the inverse of \\d [^0-9]\n",
    "string = 'This is my number 111-456-7890... Gimme a ring.'\n",
    "match = re.search(pattern, string)\n",
    "match"
   ]
  },
  {
   "cell_type": "code",
   "execution_count": 9,
   "metadata": {},
   "outputs": [
    {
     "data": {
      "text/plain": [
       "<_sre.SRE_Match object; span=(4, 5), match=' '>"
      ]
     },
     "execution_count": 9,
     "metadata": {},
     "output_type": "execute_result"
    }
   ],
   "source": [
    "pattern = r'\\s+'  # \\s is a short hand for whitespace [ \\t\\n\\r\\f\\v]\n",
    "string = 'This is my number 111-456-7890... Gimme a ring.'\n",
    "match = re.search(pattern, string)\n",
    "match"
   ]
  },
  {
   "cell_type": "code",
   "execution_count": 10,
   "metadata": {},
   "outputs": [
    {
     "data": {
      "text/plain": [
       "<_sre.SRE_Match object; span=(0, 4), match='This'>"
      ]
     },
     "execution_count": 10,
     "metadata": {},
     "output_type": "execute_result"
    }
   ],
   "source": [
    "pattern = r'\\S+'  # \\S is a short hand for the inverse of \\s [^ \\t\\n\\r\\f\\v]\n",
    "string = 'This is my number 111-456-7890... Gimme a ring.'\n",
    "match = re.search(pattern, string)\n",
    "match"
   ]
  },
  {
   "cell_type": "code",
   "execution_count": 11,
   "metadata": {},
   "outputs": [
    {
     "data": {
      "text/plain": [
       "['This', 'is', 'my', 'number', '111-456-7890...', 'Gimme', 'a', 'ring.']"
      ]
     },
     "execution_count": 11,
     "metadata": {},
     "output_type": "execute_result"
    }
   ],
   "source": [
    "# Find all tokens in string...\n",
    "pattern = r'\\S+'  # A token is a non-empty string of one or more characters\n",
    "string = 'This is my number 111-456-7890... Gimme a ring.'\n",
    "re.findall(pattern, string)"
   ]
  },
  {
   "cell_type": "code",
   "execution_count": 14,
   "metadata": {},
   "outputs": [
    {
     "data": {
      "text/plain": [
       "(('111', '456', '7890'), '111-456-7890', '111', '456')"
      ]
     },
     "execution_count": 14,
     "metadata": {},
     "output_type": "execute_result"
    }
   ],
   "source": [
    "pattern = r'(\\d{3})-(\\d{3})-(\\d{4})'  # () creates a group\n",
    "string = 'This is my number 111-456-7890... Gimme a ring.'\n",
    "match = re.search(pattern, string)\n",
    "match.groups(), match.group(0), match.group(1), match.group(2)"
   ]
  },
  {
   "cell_type": "code",
   "execution_count": 15,
   "metadata": {},
   "outputs": [],
   "source": [
    "# How will we parse out phone numbers in several different formats?\n",
    "PHONE_NUMBERS = \"\"\"\n",
    "111-456-7890\n",
    "2228901234\n",
    "333.456.3847\n",
    "333..456.3847\n",
    "(444) 456-7890\n",
    "\"\"\""
   ]
  },
  {
   "cell_type": "code",
   "execution_count": 16,
   "metadata": {},
   "outputs": [],
   "source": [
    "def find_numbers(pattern, numbers):\n",
    "    for line in numbers.strip().split('\\n'):\n",
    "        number_line = line.strip()\n",
    "        # just like search but only matches at beginning of string\n",
    "        match = pattern.match(number_line)\n",
    "        if match:\n",
    "            print(number_line, '=>', match.groups())\n",
    "        else:\n",
    "            print(number_line, '=>', 'No match')"
   ]
  },
  {
   "cell_type": "code",
   "execution_count": 17,
   "metadata": {},
   "outputs": [
    {
     "name": "stdout",
     "output_type": "stream",
     "text": [
      "111-456-7890 => ('111', '456', '7890')\n",
      "2228901234 => No match\n",
      "333.456.3847 => No match\n",
      "333..456.3847 => No match\n",
      "(444) 456-7890 => No match\n"
     ]
    }
   ],
   "source": [
    "# We can complie a pattern for faster speed.\n",
    "# We have to use the search and match methods on a compile pattern.\n",
    "pattern = re.compile(r'(\\d{3})-(\\d{3})-(\\d{4})') \n",
    "find_numbers(pattern, PHONE_NUMBERS)"
   ]
  },
  {
   "cell_type": "code",
   "execution_count": 18,
   "metadata": {},
   "outputs": [
    {
     "name": "stdout",
     "output_type": "stream",
     "text": [
      "111-456-7890 => ('111', '456', '7890')\n",
      "2228901234 => ('222', '890', '1234')\n",
      "333.456.3847 => No match\n",
      "333..456.3847 => No match\n",
      "(444) 456-7890 => No match\n"
     ]
    }
   ],
   "source": [
    "# ? matches 0 or 1 instances of last character set\n",
    "pattern = re.compile(r'(\\d{3})-?(\\d{3})-?(\\d{4})')  \n",
    "find_numbers(pattern, PHONE_NUMBERS)"
   ]
  },
  {
   "cell_type": "code",
   "execution_count": 19,
   "metadata": {},
   "outputs": [
    {
     "name": "stdout",
     "output_type": "stream",
     "text": [
      "111-456-7890 => ('111', '456', '7890')\n",
      "2228901234 => ('222', '890', '1234')\n",
      "333.456.3847 => ('333', '456', '3847')\n",
      "333..456.3847 => No match\n",
      "(444) 456-7890 => No match\n"
     ]
    }
   ],
   "source": [
    "# ? matches 0 or 1 instances of last character set\n",
    "pattern = re.compile(r'(\\d{3})[-.]?(\\d{3})[-.]?(\\d{4})')  \n",
    "find_numbers(pattern, PHONE_NUMBERS)"
   ]
  },
  {
   "cell_type": "code",
   "execution_count": 20,
   "metadata": {},
   "outputs": [
    {
     "name": "stdout",
     "output_type": "stream",
     "text": [
      "111-456-7890 => ('111', '-', '456', '-', '7890')\n",
      "2228901234 => ('222', '', '890', '', '1234')\n",
      "333.456.3847 => ('333', '.', '456', '.', '3847')\n",
      "333..456.3847 => ('333', '..', '456', '.', '3847')\n",
      "(444) 456-7890 => No match\n"
     ]
    }
   ],
   "source": [
    "# \\D matches a non-integer character. * match 0 or more instances of last character set.\n",
    "pattern = re.compile(r'(\\d{3})(\\D*)(\\d{3})(\\D*)(\\d{4})') \n",
    "find_numbers(pattern, PHONE_NUMBERS)"
   ]
  },
  {
   "cell_type": "code",
   "execution_count": 22,
   "metadata": {},
   "outputs": [
    {
     "name": "stdout",
     "output_type": "stream",
     "text": [
      "111-456-7890 => ('111', '456', '7890')\n",
      "2228901234 => ('222', '890', '1234')\n",
      "333.456.3847 => ('333', '456', '3847')\n",
      "333..456.3847 => ('333', '456', '3847')\n",
      "(444) 456-7890 => No match\n"
     ]
    }
   ],
   "source": [
    "# \\D matches a non-integer character. * match 0 or more instances of last character set.\n",
    "# remove the parentheses ()\n",
    "pattern = re.compile(r'(\\d{3})\\D*(\\d{3})\\D*(\\d{4})') \n",
    "find_numbers(pattern, PHONE_NUMBERS)"
   ]
  },
  {
   "cell_type": "code",
   "execution_count": 21,
   "metadata": {},
   "outputs": [
    {
     "name": "stdout",
     "output_type": "stream",
     "text": [
      "111-456-7890 => ('111', '456', '7890')\n",
      "2228901234 => ('222', '890', '1234')\n",
      "333.456.3847 => ('333', '456', '3847')\n",
      "333..456.3847 => ('333', '456', '3847')\n",
      "(444) 456-7890 => ('444', '456', '7890')\n"
     ]
    }
   ],
   "source": [
    "# Putting it all together.\n",
    "pattern = re.compile(r'\\D*(\\d{3})\\D*(\\d{3})\\D*(\\d{4})')\n",
    "find_numbers(pattern, PHONE_NUMBERS)"
   ]
  },
  {
   "cell_type": "code",
   "execution_count": 24,
   "metadata": {},
   "outputs": [
    {
     "name": "stdout",
     "output_type": "stream",
     "text": [
      "('111', '456', '7890')\n",
      "area_code:  111\n",
      "prefix:  456\n",
      "line_number:  7890\n"
     ]
    }
   ],
   "source": [
    "# Flags\n",
    "pattern = r'''\n",
    "    \\D*                      # Non-numbers before phone number\n",
    "    (?P<area_code>\\d{3})     # Area code\n",
    "    \\D*                      # Non-numbers\n",
    "    (?P<prefix>\\d{3})        # Prefix\n",
    "    \\D*                      # Non-numbers\n",
    "    (?P<line_number>\\d{4})   # Last four numbers of phone number\n",
    "'''\n",
    "\n",
    "flags = (\n",
    "    re.IGNORECASE |  # Match against upper and lower case with one case\n",
    "    re.VERBOSE  # Match with comments\n",
    ")\n",
    "match = re.match(pattern, string, flags=flags)\n",
    "\n",
    "print(match.groups())\n",
    "print('area_code: ', match.group('area_code'))\n",
    "print('prefix: ', match.group('prefix'))\n",
    "print('line_number: ', match.group('line_number'))"
   ]
  },
  {
   "cell_type": "code",
   "execution_count": null,
   "metadata": {},
   "outputs": [],
   "source": []
  }
 ],
 "metadata": {
  "kernelspec": {
   "display_name": "Python 3",
   "language": "python",
   "name": "python3"
  },
  "language_info": {
   "codemirror_mode": {
    "name": "ipython",
    "version": 3
   },
   "file_extension": ".py",
   "mimetype": "text/x-python",
   "name": "python",
   "nbconvert_exporter": "python",
   "pygments_lexer": "ipython3",
   "version": "3.7.3"
  }
 },
 "nbformat": 4,
 "nbformat_minor": 2
}
