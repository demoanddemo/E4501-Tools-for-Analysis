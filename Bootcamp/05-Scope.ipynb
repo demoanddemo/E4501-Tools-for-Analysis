{
 "cells": [
  {
   "cell_type": "markdown",
   "metadata": {},
   "source": [
    "# Scope"
   ]
  },
  {
   "cell_type": "markdown",
   "metadata": {},
   "source": [
    "A scope is the programmatic location in which variables are defined."
   ]
  },
  {
   "cell_type": "code",
   "execution_count": 1,
   "metadata": {},
   "outputs": [
    {
     "name": "stdout",
     "output_type": "stream",
     "text": [
      "scopes are great!\n"
     ]
    }
   ],
   "source": [
    "# Functional scope -> variable is availble within the fucntion\n",
    "def func(variable_with_functional_scope):\n",
    "    print(variable_with_functional_scope)\n",
    "    \n",
    "func('scopes are great!')"
   ]
  },
  {
   "cell_type": "code",
   "execution_count": 2,
   "metadata": {},
   "outputs": [
    {
     "ename": "NameError",
     "evalue": "name 'variable_with_functional_scope' is not defined",
     "output_type": "error",
     "traceback": [
      "\u001b[0;31m---------------------------------------------------------------------------\u001b[0m",
      "\u001b[0;31mNameError\u001b[0m                                 Traceback (most recent call last)",
      "\u001b[0;32m<ipython-input-2-8e08e65295b6>\u001b[0m in \u001b[0;36m<module>\u001b[0;34m()\u001b[0m\n\u001b[0;32m----> 1\u001b[0;31m \u001b[0mvariable_with_functional_scope\u001b[0m  \u001b[0;31m# <- variable is not available outside of function.\u001b[0m\u001b[0;34m\u001b[0m\u001b[0;34m\u001b[0m\u001b[0m\n\u001b[0m\u001b[1;32m      2\u001b[0m \u001b[0;31m# Variable is not in this notebook's scope.\u001b[0m\u001b[0;34m\u001b[0m\u001b[0;34m\u001b[0m\u001b[0;34m\u001b[0m\u001b[0m\n",
      "\u001b[0;31mNameError\u001b[0m: name 'variable_with_functional_scope' is not defined"
     ]
    }
   ],
   "source": [
    "variable_with_functional_scope  # <- variable is not available outside of function.\n",
    "# Variable is not in this notebook's scope."
   ]
  },
  {
   "cell_type": "code",
   "execution_count": 3,
   "metadata": {},
   "outputs": [
    {
     "name": "stdout",
     "output_type": "stream",
     "text": [
      "LOCAL LOCO!\n",
      "scoop diddy global scopes\n"
     ]
    }
   ],
   "source": [
    "# Global scope -> variable is available outside of function\n",
    "global_var = 'scoop diddy global scopes'\n",
    "\n",
    "def func(local_var):\n",
    "    print(local_var)\n",
    "    \n",
    "func('LOCAL LOCO!')\n",
    "\n",
    "print(global_var)  "
   ]
  },
  {
   "cell_type": "code",
   "execution_count": 4,
   "metadata": {},
   "outputs": [
    {
     "name": "stdout",
     "output_type": "stream",
     "text": [
      "LOCAL LOCO!\n",
      "scoop diddy global scopes\n"
     ]
    }
   ],
   "source": [
    "arg1 = 'scoop diddy global scopes'\n",
    "\n",
    "def func(arg1):  # <- function argument `arg1` shadows global variable `arg1`. Bad practice!\n",
    "    print(arg1)\n",
    "    \n",
    "func('LOCAL LOCO!')  # <- arg1 takes on new value\n",
    "\n",
    "print(arg1)  # <- Could be confusing what this variable now holds"
   ]
  },
  {
   "cell_type": "markdown",
   "metadata": {},
   "source": [
    "Python sees `arg1` within `func` and says, \"Oh, you used the same variable name in the function as a variable from the global scope. But I don't like giving write access to global variables to functions, so I'm going to create a new variable for you with the same name and with functional scope\". This is called variable name shadowing and its allowed but not best practice."
   ]
  },
  {
   "cell_type": "code",
   "execution_count": 5,
   "metadata": {},
   "outputs": [
    {
     "name": "stdout",
     "output_type": "stream",
     "text": [
      "2\n"
     ]
    }
   ],
   "source": [
    "variable_with_global_scope = 1\n",
    "\n",
    "def func(variable_with_functional_scope):\n",
    "    # globals are avaiable for reading inside functions\n",
    "    print(variable_with_global_scope + variable_with_functional_scope)\n",
    "\n",
    "func(1)"
   ]
  },
  {
   "cell_type": "code",
   "execution_count": 6,
   "metadata": {},
   "outputs": [
    {
     "ename": "UnboundLocalError",
     "evalue": "local variable 'variable_with_global_scope' referenced before assignment",
     "output_type": "error",
     "traceback": [
      "\u001b[0;31m---------------------------------------------------------------------------\u001b[0m",
      "\u001b[0;31mUnboundLocalError\u001b[0m                         Traceback (most recent call last)",
      "\u001b[0;32m<ipython-input-6-5cce9d17c3e0>\u001b[0m in \u001b[0;36m<module>\u001b[0;34m()\u001b[0m\n\u001b[1;32m      5\u001b[0m     \u001b[0mvariable_with_global_scope\u001b[0m \u001b[0;34m=\u001b[0m \u001b[0mvariable_with_global_scope\u001b[0m \u001b[0;34m+\u001b[0m \u001b[0mvariable_with_functional_scope\u001b[0m\u001b[0;34m\u001b[0m\u001b[0;34m\u001b[0m\u001b[0m\n\u001b[1;32m      6\u001b[0m \u001b[0;34m\u001b[0m\u001b[0m\n\u001b[0;32m----> 7\u001b[0;31m \u001b[0mfunc\u001b[0m\u001b[0;34m(\u001b[0m\u001b[0;36m1\u001b[0m\u001b[0;34m)\u001b[0m\u001b[0;34m\u001b[0m\u001b[0;34m\u001b[0m\u001b[0m\n\u001b[0m\u001b[1;32m      8\u001b[0m \u001b[0mprint\u001b[0m\u001b[0;34m(\u001b[0m\u001b[0mvaraible_with_global_scope\u001b[0m\u001b[0;34m)\u001b[0m\u001b[0;34m\u001b[0m\u001b[0;34m\u001b[0m\u001b[0m\n",
      "\u001b[0;32m<ipython-input-6-5cce9d17c3e0>\u001b[0m in \u001b[0;36mfunc\u001b[0;34m(variable_with_functional_scope)\u001b[0m\n\u001b[1;32m      3\u001b[0m \u001b[0;32mdef\u001b[0m \u001b[0mfunc\u001b[0m\u001b[0;34m(\u001b[0m\u001b[0mvariable_with_functional_scope\u001b[0m\u001b[0;34m)\u001b[0m\u001b[0;34m:\u001b[0m\u001b[0;34m\u001b[0m\u001b[0;34m\u001b[0m\u001b[0m\n\u001b[1;32m      4\u001b[0m     \u001b[0;31m# globals are NOT avaiable for writing inside functions by default\u001b[0m\u001b[0;34m\u001b[0m\u001b[0;34m\u001b[0m\u001b[0;34m\u001b[0m\u001b[0m\n\u001b[0;32m----> 5\u001b[0;31m     \u001b[0mvariable_with_global_scope\u001b[0m \u001b[0;34m=\u001b[0m \u001b[0mvariable_with_global_scope\u001b[0m \u001b[0;34m+\u001b[0m \u001b[0mvariable_with_functional_scope\u001b[0m\u001b[0;34m\u001b[0m\u001b[0;34m\u001b[0m\u001b[0m\n\u001b[0m\u001b[1;32m      6\u001b[0m \u001b[0;34m\u001b[0m\u001b[0m\n\u001b[1;32m      7\u001b[0m \u001b[0mfunc\u001b[0m\u001b[0;34m(\u001b[0m\u001b[0;36m1\u001b[0m\u001b[0;34m)\u001b[0m\u001b[0;34m\u001b[0m\u001b[0;34m\u001b[0m\u001b[0m\n",
      "\u001b[0;31mUnboundLocalError\u001b[0m: local variable 'variable_with_global_scope' referenced before assignment"
     ]
    }
   ],
   "source": [
    "variable_with_global_scope = 1\n",
    "\n",
    "def func(variable_with_functional_scope):\n",
    "    # globals are NOT avaiable for writing inside functions by default\n",
    "    variable_with_global_scope = variable_with_global_scope + variable_with_functional_scope\n",
    "\n",
    "func(1)\n",
    "print(varaible_with_global_scope)"
   ]
  },
  {
   "cell_type": "code",
   "execution_count": 7,
   "metadata": {},
   "outputs": [
    {
     "name": "stdout",
     "output_type": "stream",
     "text": [
      "11\n"
     ]
    }
   ],
   "source": [
    "variable_with_global_scope = 1\n",
    "\n",
    "def func(variable_with_functional_scope):\n",
    "    # Force Python to allow writing to the global variable.\n",
    "    # Try hard to stay away from this!\n",
    "    global variable_with_global_scope  \n",
    "    \n",
    "    variable_with_global_scope = variable_with_global_scope + variable_with_functional_scope\n",
    "\n",
    "func(10)\n",
    "print(variable_with_global_scope)"
   ]
  },
  {
   "cell_type": "code",
   "execution_count": null,
   "metadata": {},
   "outputs": [],
   "source": []
  }
 ],
 "metadata": {
  "kernelspec": {
   "display_name": "Python 3",
   "language": "python",
   "name": "python3"
  },
  "language_info": {
   "codemirror_mode": {
    "name": "ipython",
    "version": 3
   },
   "file_extension": ".py",
   "mimetype": "text/x-python",
   "name": "python",
   "nbconvert_exporter": "python",
   "pygments_lexer": "ipython3",
   "version": "3.7.3"
  }
 },
 "nbformat": 4,
 "nbformat_minor": 2
}
