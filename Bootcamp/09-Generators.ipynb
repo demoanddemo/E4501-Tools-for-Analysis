{
 "cells": [
  {
   "cell_type": "markdown",
   "metadata": {},
   "source": [
    "# Generators"
   ]
  },
  {
   "cell_type": "code",
   "execution_count": 1,
   "metadata": {},
   "outputs": [
    {
     "data": {
      "text/plain": [
       "<function __main__.hellos()>"
      ]
     },
     "execution_count": 1,
     "metadata": {},
     "output_type": "execute_result"
    }
   ],
   "source": [
    "def hellos():  # generator function\n",
    "    yield 'hi'  # stop processing here\n",
    "    yield 'hello'  # stop processing here\n",
    "    yield \"what's up\"  # stop processing here\n",
    "\n",
    "hellos"
   ]
  },
  {
   "cell_type": "code",
   "execution_count": 2,
   "metadata": {},
   "outputs": [
    {
     "data": {
      "text/plain": [
       "<generator object hellos at 0x7fbf781acf68>"
      ]
     },
     "execution_count": 2,
     "metadata": {},
     "output_type": "execute_result"
    }
   ],
   "source": [
    "hello_object = hellos()  # generator object\n",
    "hello_object"
   ]
  },
  {
   "cell_type": "code",
   "execution_count": 3,
   "metadata": {},
   "outputs": [
    {
     "name": "stdout",
     "output_type": "stream",
     "text": [
      "hi\n"
     ]
    }
   ],
   "source": [
    "print(next(hello_object))  # Run until first stop"
   ]
  },
  {
   "cell_type": "code",
   "execution_count": 4,
   "metadata": {},
   "outputs": [
    {
     "name": "stdout",
     "output_type": "stream",
     "text": [
      "hello\n"
     ]
    }
   ],
   "source": [
    "print(next(hello_object))  # Run until second stop"
   ]
  },
  {
   "cell_type": "code",
   "execution_count": 5,
   "metadata": {},
   "outputs": [
    {
     "name": "stdout",
     "output_type": "stream",
     "text": [
      "what's up\n"
     ]
    }
   ],
   "source": [
    "print(next(hello_object))  # Run until third stop"
   ]
  },
  {
   "cell_type": "code",
   "execution_count": 6,
   "metadata": {},
   "outputs": [
    {
     "ename": "StopIteration",
     "evalue": "",
     "output_type": "error",
     "traceback": [
      "\u001b[0;31m---------------------------------------------------------------------------\u001b[0m",
      "\u001b[0;31mStopIteration\u001b[0m                             Traceback (most recent call last)",
      "\u001b[0;32m<ipython-input-6-841ed12679fd>\u001b[0m in \u001b[0;36m<module>\u001b[0;34m()\u001b[0m\n\u001b[0;32m----> 1\u001b[0;31m \u001b[0mprint\u001b[0m\u001b[0;34m(\u001b[0m\u001b[0mnext\u001b[0m\u001b[0;34m(\u001b[0m\u001b[0mhello_object\u001b[0m\u001b[0;34m)\u001b[0m\u001b[0;34m)\u001b[0m  \u001b[0;31m# Try to run further...\u001b[0m\u001b[0;34m\u001b[0m\u001b[0;34m\u001b[0m\u001b[0m\n\u001b[0m",
      "\u001b[0;31mStopIteration\u001b[0m: "
     ]
    }
   ],
   "source": [
    "print(next(hello_object))  # Try to run further..."
   ]
  },
  {
   "cell_type": "code",
   "execution_count": 7,
   "metadata": {},
   "outputs": [
    {
     "data": {
      "text/plain": [
       "'hi'"
      ]
     },
     "execution_count": 7,
     "metadata": {},
     "output_type": "execute_result"
    }
   ],
   "source": [
    "hello_object = hellos()  # calling the generator function creates a new generator object.\n",
    "next(hello_object)"
   ]
  },
  {
   "cell_type": "code",
   "execution_count": 8,
   "metadata": {},
   "outputs": [
    {
     "name": "stdout",
     "output_type": "stream",
     "text": [
      "entering loop\n",
      "hi\n",
      "hello\n",
      "what's up\n",
      "left loop\n"
     ]
    }
   ],
   "source": [
    "hello_object = hellos()\n",
    "\n",
    "print('entering loop')\n",
    "for phrase in hellos():\n",
    "    print(phrase)\n",
    "print('left loop')  # loops will run until StopIteration is raised"
   ]
  },
  {
   "cell_type": "code",
   "execution_count": 10,
   "metadata": {},
   "outputs": [],
   "source": [
    "import time\n",
    "\n",
    "def do_heavy_operations():\n",
    "    for i in range(10):\n",
    "        time.sleep(1)\n",
    "        yield i\n",
    "        \n",
    "# Why is the below worse than the above?\n",
    "# def do_heavy_operations():\n",
    "#     values = []\n",
    "#     for i in range(10):\n",
    "#         time.sleep(1)\n",
    "#         values.append(i)\n",
    "#     return values"
   ]
  },
  {
   "cell_type": "code",
   "execution_count": 11,
   "metadata": {},
   "outputs": [
    {
     "name": "stdout",
     "output_type": "stream",
     "text": [
      "0\n",
      "1\n",
      "2\n"
     ]
    }
   ],
   "source": [
    "for j in do_heavy_operations():\n",
    "    if j > 2:\n",
    "        break\n",
    "    print(j)"
   ]
  },
  {
   "cell_type": "code",
   "execution_count": 12,
   "metadata": {},
   "outputs": [
    {
     "name": "stdout",
     "output_type": "stream",
     "text": [
      "From verbose method: 0\n",
      "From verbose method: 1\n",
      "From verbose method: 2\n",
      "From verbose method: 3\n",
      "From verbose method: 4\n",
      "\n",
      "From yield from: 0\n",
      "From yield from: 1\n",
      "From yield from: 2\n",
      "From yield from: 3\n",
      "From yield from: 4\n",
      "From yield from: 5\n",
      "From yield from: 6\n",
      "From yield from: 7\n",
      "From yield from: 8\n",
      "From yield from: 9\n"
     ]
    }
   ],
   "source": [
    "def gen(x):\n",
    "    other_gen = range(x)\n",
    "    for i in other_gen:\n",
    "        yield i\n",
    "\n",
    "for i in gen(5):\n",
    "    print('From verbose method:', i)\n",
    "\n",
    "print()\n",
    "\n",
    "def gen(x):\n",
    "    yield from [1, 2, 3]  # yield from allows us to pull from another iterable\n",
    "    \n",
    "def gen(x):\n",
    "    yield from range(10)  # yield from allows us to pull from another iterable\n",
    "\n",
    "for i in gen(5):\n",
    "    print('From yield from:', i)"
   ]
  },
  {
   "cell_type": "code",
   "execution_count": 22,
   "metadata": {},
   "outputs": [
    {
     "data": {
      "text/plain": [
       "[0, 1, 4, 9, 16, 25, 36, 49, 64, 81]"
      ]
     },
     "execution_count": 22,
     "metadata": {},
     "output_type": "execute_result"
    }
   ],
   "source": [
    "[x**2 for x in range(10)]  # Fun fact, Python internally createas a generator and then evaluates it into a list"
   ]
  }
 ],
 "metadata": {
  "kernelspec": {
   "display_name": "Python 3",
   "language": "python",
   "name": "python3"
  },
  "language_info": {
   "codemirror_mode": {
    "name": "ipython",
    "version": 3
   },
   "file_extension": ".py",
   "mimetype": "text/x-python",
   "name": "python",
   "nbconvert_exporter": "python",
   "pygments_lexer": "ipython3",
   "version": "3.6.7"
  }
 },
 "nbformat": 4,
 "nbformat_minor": 2
}
