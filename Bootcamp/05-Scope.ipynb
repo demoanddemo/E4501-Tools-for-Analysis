{
 "cells": [
  {
   "cell_type": "markdown",
   "metadata": {},
   "source": [
    "# Scope"
   ]
  },
  {
   "cell_type": "markdown",
   "metadata": {},
   "source": [
    "A scope is the programmatic location in which variables are defined."
   ]
  },
  {
   "cell_type": "code",
   "execution_count": null,
   "metadata": {},
   "outputs": [],
   "source": [
    "# Functional scope -> variable is availble within the fucntion\n",
    "def func(variable_with_functional_scope):\n",
    "    print(variable_with_functional_scope)\n",
    "    \n",
    "func('scopes are great!')"
   ]
  },
  {
   "cell_type": "code",
   "execution_count": null,
   "metadata": {},
   "outputs": [],
   "source": [
    "variable_with_functional_scope  # <- variable is not available outside of function.\n",
    "# Variable is not in this notebook's scope."
   ]
  },
  {
   "cell_type": "code",
   "execution_count": null,
   "metadata": {},
   "outputs": [],
   "source": [
    "# Global scope -> variable is available outside of function\n",
    "global_var = 'scoop diddy global scopes'\n",
    "\n",
    "def func(local_var):\n",
    "    print(local_var)\n",
    "    \n",
    "func('LOCAL LOCO!')\n",
    "\n",
    "print(global_var)  "
   ]
  },
  {
   "cell_type": "code",
   "execution_count": null,
   "metadata": {},
   "outputs": [],
   "source": [
    "arg1 = 'scoop diddy global scopes'\n",
    "\n",
    "def func(arg1):  # <- function argument `arg1` shadows global variable `arg1`. Bad practice!\n",
    "    print(arg1)\n",
    "    \n",
    "func('LOCAL LOCO!')  # <- arg1 takes on new value\n",
    "\n",
    "print(arg1)  # <- Could be confusing what this variable now holds"
   ]
  },
  {
   "cell_type": "markdown",
   "metadata": {},
   "source": [
    "Python sees `arg1` within `func` and says, \"Oh, you used the same variable name in the function as a variable from the global scope. But I don't like giving write access to global variables to functions, so I'm going to create a new variable for you with the same name and with functional scope\". This is called variable name shadowing and its allowed but not best practice."
   ]
  },
  {
   "cell_type": "code",
   "execution_count": null,
   "metadata": {},
   "outputs": [],
   "source": [
    "variable_with_global_scope = 1\n",
    "\n",
    "def func(variable_with_functional_scope):\n",
    "    # globals are avaiable for reading inside functions\n",
    "    print(variable_with_global_scope + variable_with_functional_scope)\n",
    "\n",
    "func(1)"
   ]
  },
  {
   "cell_type": "code",
   "execution_count": null,
   "metadata": {},
   "outputs": [],
   "source": [
    "variable_with_global_scope = 1\n",
    "\n",
    "def func(variable_with_functional_scope):\n",
    "    # globals are NOT avaiable for writing inside functions by default\n",
    "    variable_with_global_scope = variable_with_global_scope + variable_with_functional_scope\n",
    "\n",
    "func(1)\n",
    "print(varaible_with_global_scope)"
   ]
  },
  {
   "cell_type": "code",
   "execution_count": null,
   "metadata": {},
   "outputs": [],
   "source": [
    "variable_with_global_scope = 1\n",
    "\n",
    "def func(variable_with_functional_scope):\n",
    "    # Force Python to allow writing to the global variable.\n",
    "    # Try hard to stay away from this!\n",
    "    global variable_with_global_scope  \n",
    "    \n",
    "    variable_with_global_scope = variable_with_global_scope + variable_with_functional_scope\n",
    "\n",
    "func(10)\n",
    "print(variable_with_global_scope)"
   ]
  }
 ],
 "metadata": {
  "kernelspec": {
   "display_name": "Python 3",
   "language": "python",
   "name": "python3"
  },
  "language_info": {
   "codemirror_mode": {
    "name": "ipython",
    "version": 3
   },
   "file_extension": ".py",
   "mimetype": "text/x-python",
   "name": "python",
   "nbconvert_exporter": "python",
   "pygments_lexer": "ipython3",
   "version": "3.7.3"
  }
 },
 "nbformat": 4,
 "nbformat_minor": 2
}
