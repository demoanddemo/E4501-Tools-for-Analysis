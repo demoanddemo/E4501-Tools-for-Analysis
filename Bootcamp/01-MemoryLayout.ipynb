{
 "cells": [
  {
   "cell_type": "markdown",
   "metadata": {},
   "source": [
    "# Memory Layout"
   ]
  },
  {
   "cell_type": "markdown",
   "metadata": {},
   "source": [
    "- Memory of computer, layout (stack / heap): https://manybutfinite.com/post/anatomy-of-a-program-in-memory/\n",
    "- Program vs. process (process = program in memory and managed by OS)\n",
    "- Memory layout of list and what \"is\" does:\n",
    "  - https://stackoverflow.com/questions/24171491/binary-layout-of-python-lists\n",
    "  - https://www.laurentluce.com/posts/python-list-implementation/\n",
    "  - https://jakevdp.github.io/blog/2014/05/09/why-python-is-slow/"
   ]
  },
  {
   "cell_type": "markdown",
   "metadata": {},
   "source": [
    "### Geneeral Memory Layout\n",
    "\n",
    "<img src='General Memory Layout.svg' style='height: 600px' />"
   ]
  },
  {
   "cell_type": "markdown",
   "metadata": {},
   "source": [
    "### Python Objects Memory Layout\n",
    "<img src='Python Objects Memory Layout.svg' style='height: 600px' />"
   ]
  }
 ],
 "metadata": {
  "kernelspec": {
   "display_name": "Python 3",
   "language": "python",
   "name": "python3"
  },
  "language_info": {
   "codemirror_mode": {
    "name": "ipython",
    "version": 3
   },
   "file_extension": ".py",
   "mimetype": "text/x-python",
   "name": "python",
   "nbconvert_exporter": "python",
   "pygments_lexer": "ipython3",
   "version": "3.7.3"
  }
 },
 "nbformat": 4,
 "nbformat_minor": 2
}
