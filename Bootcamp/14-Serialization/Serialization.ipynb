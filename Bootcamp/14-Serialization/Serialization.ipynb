{
 "cells": [
  {
   "cell_type": "markdown",
   "metadata": {},
   "source": [
    "# Serialization"
   ]
  },
  {
   "cell_type": "markdown",
   "metadata": {},
   "source": [
    "### CSV"
   ]
  },
  {
   "cell_type": "code",
   "execution_count": 1,
   "metadata": {},
   "outputs": [
    {
     "data": {
      "text/plain": [
       "['Year,NOI,Assets,Cash,Share Price\\n',\n",
       " '2017,\"35,410,000\",\"87,896,000\",\"6,006,000\",45.88\\n',\n",
       " '2016,\"41,863,000\",\"87,270,000\",8555000,41.46\\n',\n",
       " '2015,\"44,294,000\",,7309000,42.96\\n',\n",
       " '2014,\"45,998,000\",,,42.41\\n',\n",
       " '2013,\"46,854,000\",,,40.66']"
      ]
     },
     "execution_count": 1,
     "metadata": {},
     "output_type": "execute_result"
    }
   ],
   "source": [
    "with open('CSV-JSON-XML-CocaCola.csv') as fp:\n",
    "    data = fp.readlines()\n",
    "    \n",
    "data  # looks pretty organized. could potentially write our own parser."
   ]
  },
  {
   "cell_type": "code",
   "execution_count": 2,
   "metadata": {},
   "outputs": [
    {
     "data": {
      "text/plain": [
       "[['Year', 'NOI', 'Assets', 'Cash', 'Share Price'],\n",
       " ['2017', '35,410,000', '87,896,000', '6,006,000', '45.88'],\n",
       " ['2016', '41,863,000', '87,270,000', '8555000', '41.46'],\n",
       " ['2015', '44,294,000', '', '7309000', '42.96'],\n",
       " ['2014', '45,998,000', '', '', '42.41'],\n",
       " ['2013', '46,854,000', '', '', '40.66']]"
      ]
     },
     "execution_count": 2,
     "metadata": {},
     "output_type": "execute_result"
    }
   ],
   "source": [
    "import csv\n",
    "\n",
    "with open('CSV-JSON-XML-CocaCola.csv') as fp:\n",
    "    reader = csv.reader(fp)\n",
    "    data = list(reader)\n",
    "    \n",
    "data  # much better! each column is a broken into its own list element"
   ]
  },
  {
   "cell_type": "code",
   "execution_count": 3,
   "metadata": {},
   "outputs": [
    {
     "data": {
      "text/plain": [
       "[OrderedDict([('Year', '2017'),\n",
       "              ('NOI', '35,410,000'),\n",
       "              ('Assets', '87,896,000'),\n",
       "              ('Cash', '6,006,000'),\n",
       "              ('Share Price', '45.88')]),\n",
       " OrderedDict([('Year', '2016'),\n",
       "              ('NOI', '41,863,000'),\n",
       "              ('Assets', '87,270,000'),\n",
       "              ('Cash', '8555000'),\n",
       "              ('Share Price', '41.46')]),\n",
       " OrderedDict([('Year', '2015'),\n",
       "              ('NOI', '44,294,000'),\n",
       "              ('Assets', ''),\n",
       "              ('Cash', '7309000'),\n",
       "              ('Share Price', '42.96')]),\n",
       " OrderedDict([('Year', '2014'),\n",
       "              ('NOI', '45,998,000'),\n",
       "              ('Assets', ''),\n",
       "              ('Cash', ''),\n",
       "              ('Share Price', '42.41')]),\n",
       " OrderedDict([('Year', '2013'),\n",
       "              ('NOI', '46,854,000'),\n",
       "              ('Assets', ''),\n",
       "              ('Cash', ''),\n",
       "              ('Share Price', '40.66')])]"
      ]
     },
     "execution_count": 3,
     "metadata": {},
     "output_type": "execute_result"
    }
   ],
   "source": [
    "with open('CSV-JSON-XML-CocaCola.csv') as fp:\n",
    "    reader = csv.DictReader(fp)\n",
    "    data = list(reader)\n",
    "    \n",
    "data  # The best for data with headers."
   ]
  },
  {
   "cell_type": "code",
   "execution_count": 4,
   "metadata": {},
   "outputs": [],
   "source": [
    "import collections"
   ]
  },
  {
   "cell_type": "code",
   "execution_count": 5,
   "metadata": {},
   "outputs": [
    {
     "data": {
      "text/plain": [
       "OrderedDict([(1, 'a'), (2, 'b'), (3, 'c')])"
      ]
     },
     "execution_count": 5,
     "metadata": {},
     "output_type": "execute_result"
    }
   ],
   "source": [
    "d = collections.OrderedDict()\n",
    "\n",
    "d[1] = 'a'\n",
    "d[2] = 'b'\n",
    "d[3] = 'c'\n",
    "d"
   ]
  },
  {
   "cell_type": "code",
   "execution_count": 6,
   "metadata": {},
   "outputs": [
    {
     "name": "stdout",
     "output_type": "stream",
     "text": [
      "2017\n",
      "87,896,000\n"
     ]
    }
   ],
   "source": [
    "first_row = data[0]\n",
    "print(first_row['Year'])\n",
    "print(first_row['Assets'])"
   ]
  },
  {
   "cell_type": "code",
   "execution_count": 7,
   "metadata": {},
   "outputs": [
    {
     "name": "stdout",
     "output_type": "stream",
     "text": [
      "OrderedDict([('Year', 2017), ('NOI', 35410000), ('Assets', 87896000), ('Cash', 6006000), ('Share Price', 45.88)])\n",
      "OrderedDict([('Year', 2016), ('NOI', 41863000), ('Assets', 87270000), ('Cash', 8555000), ('Share Price', 41.46)])\n",
      "OrderedDict([('Year', 2015), ('NOI', 44294000), ('Assets', None), ('Cash', 7309000), ('Share Price', 42.96)])\n",
      "OrderedDict([('Year', 2014), ('NOI', 45998000), ('Assets', None), ('Cash', None), ('Share Price', 42.41)])\n",
      "OrderedDict([('Year', 2013), ('NOI', 46854000), ('Assets', None), ('Cash', None), ('Share Price', 40.66)])\n"
     ]
    }
   ],
   "source": [
    "import collections\n",
    "\n",
    "# Data is still in strings. Let's convert to correct types.\n",
    "\n",
    "def parse_row(row):\n",
    "    new_row = collections.OrderedDict()\n",
    "    new_row['Year'] = int(row['Year'])\n",
    "    new_row['NOI'] = int(row['NOI'].replace(',', '')) if row['NOI'] else None\n",
    "    new_row['Assets'] = int(row['Assets'].replace(',', '')) if row['Assets'] else None\n",
    "    new_row['Cash'] = int(row['Cash'].replace(',', '')) if row['Cash'] else None\n",
    "    new_row['Share Price'] = float(row['Share Price'].replace(',', '')) if row['Share Price'] else None\n",
    "    return new_row\n",
    "\n",
    "for row in data:\n",
    "    print(parse_row(row))"
   ]
  },
  {
   "cell_type": "code",
   "execution_count": 8,
   "metadata": {},
   "outputs": [],
   "source": [
    "# exporting data to txt for easier viewing in Jupyter Notebook.\n",
    "# Same data would be present in a '.csv' file.\n",
    "with open('CSV-JSON-XML-CocaCola-out.csv', 'w') as fp:\n",
    "    writer = csv.writer(fp)\n",
    "    writer.writerow(parse_row(row).keys())  # writer header row\n",
    "    writer.writerows([parse_row(row).values() for row in data])  # write rows of data"
   ]
  },
  {
   "cell_type": "markdown",
   "metadata": {},
   "source": [
    "### JSON"
   ]
  },
  {
   "cell_type": "code",
   "execution_count": 9,
   "metadata": {},
   "outputs": [
    {
     "data": {
      "text/plain": [
       "{'squadName': 'Super hero squad',\n",
       " 'homeTown': 'Metro City',\n",
       " 'formed': 2016,\n",
       " 'secretBase': 'Super tower',\n",
       " 'active': True,\n",
       " 'members': [{'name': 'Madame Uppercut',\n",
       "   'age': 39,\n",
       "   'secretIdentity': 'Jane Wilson',\n",
       "   'powers': ['Million tonne punch',\n",
       "    'Damage resistance',\n",
       "    'Superhuman reflexes']},\n",
       "  {'name': 'Molecule Man',\n",
       "   'age': 29,\n",
       "   'secretIdentity': 'Dan Jukes',\n",
       "   'powers': ['Radiation resistance', 'Turning tiny', 'Radiation blast']},\n",
       "  {'name': 'Eternal Flame',\n",
       "   'age': 1000000,\n",
       "   'secretIdentity': 'Unknown',\n",
       "   'powers': ['Immortality',\n",
       "    'Heat Immunity',\n",
       "    'Inferno',\n",
       "    'Teleportation',\n",
       "    'Interdimensional travel']}]}"
      ]
     },
     "execution_count": 9,
     "metadata": {},
     "output_type": "execute_result"
    }
   ],
   "source": [
    "import json\n",
    "\n",
    "with open('CSV-JSON-XML-superheros.json') as fp:\n",
    "    data = json.load(fp)\n",
    "    \n",
    "data"
   ]
  },
  {
   "cell_type": "code",
   "execution_count": 10,
   "metadata": {},
   "outputs": [
    {
     "data": {
      "text/plain": [
       "dict"
      ]
     },
     "execution_count": 10,
     "metadata": {},
     "output_type": "execute_result"
    }
   ],
   "source": [
    "type(data)  # JSON objects are loaded as `dict`s"
   ]
  },
  {
   "cell_type": "code",
   "execution_count": 11,
   "metadata": {},
   "outputs": [],
   "source": [
    "del data['secretBase']"
   ]
  },
  {
   "cell_type": "code",
   "execution_count": 12,
   "metadata": {},
   "outputs": [
    {
     "data": {
      "text/plain": [
       "{'squadName': 'Super hero squad',\n",
       " 'homeTown': 'Metro City',\n",
       " 'formed': 2016,\n",
       " 'active': True,\n",
       " 'members': [{'name': 'Madame Uppercut',\n",
       "   'age': 39,\n",
       "   'secretIdentity': 'Jane Wilson',\n",
       "   'powers': ['Million tonne punch',\n",
       "    'Damage resistance',\n",
       "    'Superhuman reflexes']},\n",
       "  {'name': 'Molecule Man',\n",
       "   'age': 29,\n",
       "   'secretIdentity': 'Dan Jukes',\n",
       "   'powers': ['Radiation resistance', 'Turning tiny', 'Radiation blast']},\n",
       "  {'name': 'Eternal Flame',\n",
       "   'age': 1000000,\n",
       "   'secretIdentity': 'Unknown',\n",
       "   'powers': ['Immortality',\n",
       "    'Heat Immunity',\n",
       "    'Inferno',\n",
       "    'Teleportation',\n",
       "    'Interdimensional travel']}]}"
      ]
     },
     "execution_count": 12,
     "metadata": {},
     "output_type": "execute_result"
    }
   ],
   "source": [
    "data"
   ]
  },
  {
   "cell_type": "code",
   "execution_count": 13,
   "metadata": {},
   "outputs": [],
   "source": [
    "# Let's add another superhero\n",
    "data['members'].append(\n",
    "    {\n",
    "        'age': 64,\n",
    "        'name': 'Oprah Winfrey',\n",
    "        'powers': ['Media Proprietor', 'Producer', 'Philanthropist'],\n",
    "        'secretIdentity': 'Oprah Winfrey'\n",
    "    }\n",
    ")"
   ]
  },
  {
   "cell_type": "code",
   "execution_count": 14,
   "metadata": {},
   "outputs": [
    {
     "data": {
      "text/plain": [
       "{'squadName': 'Super hero squad',\n",
       " 'homeTown': 'Metro City',\n",
       " 'formed': 2016,\n",
       " 'active': True,\n",
       " 'members': [{'name': 'Madame Uppercut',\n",
       "   'age': 39,\n",
       "   'secretIdentity': 'Jane Wilson',\n",
       "   'powers': ['Million tonne punch',\n",
       "    'Damage resistance',\n",
       "    'Superhuman reflexes']},\n",
       "  {'name': 'Molecule Man',\n",
       "   'age': 29,\n",
       "   'secretIdentity': 'Dan Jukes',\n",
       "   'powers': ['Radiation resistance', 'Turning tiny', 'Radiation blast']},\n",
       "  {'name': 'Eternal Flame',\n",
       "   'age': 1000000,\n",
       "   'secretIdentity': 'Unknown',\n",
       "   'powers': ['Immortality',\n",
       "    'Heat Immunity',\n",
       "    'Inferno',\n",
       "    'Teleportation',\n",
       "    'Interdimensional travel']},\n",
       "  {'age': 64,\n",
       "   'name': 'Oprah Winfrey',\n",
       "   'powers': ['Media Proprietor', 'Producer', 'Philanthropist'],\n",
       "   'secretIdentity': 'Oprah Winfrey'}]}"
      ]
     },
     "execution_count": 14,
     "metadata": {},
     "output_type": "execute_result"
    }
   ],
   "source": [
    "data"
   ]
  },
  {
   "cell_type": "code",
   "execution_count": 15,
   "metadata": {},
   "outputs": [],
   "source": [
    "with open('CSV-JSON-XML-superheros-out.json', 'w') as fp:\n",
    "    json.dump(\n",
    "        obj=data,\n",
    "        fp=fp,\n",
    "        indent=True,  # pretty printing\n",
    "        sort_keys=True,  # sorting for easier lookup by a human\n",
    "    )"
   ]
  },
  {
   "cell_type": "code",
   "execution_count": 16,
   "metadata": {},
   "outputs": [],
   "source": [
    "# JSON is much easier when type parsing is important\n",
    "# CSV is better for relational data"
   ]
  },
  {
   "cell_type": "code",
   "execution_count": 17,
   "metadata": {},
   "outputs": [],
   "source": [
    "# LEFT HERE FOR SEC1"
   ]
  },
  {
   "cell_type": "markdown",
   "metadata": {},
   "source": [
    "### XML"
   ]
  },
  {
   "cell_type": "code",
   "execution_count": 18,
   "metadata": {},
   "outputs": [],
   "source": [
    "from lxml import etree"
   ]
  },
  {
   "cell_type": "code",
   "execution_count": 19,
   "metadata": {},
   "outputs": [],
   "source": [
    "with open('CSV-JSON-XML-note.xml') as fp:\n",
    "    data = fp.read()\n",
    "\n",
    "root = etree.fromstring(data)"
   ]
  },
  {
   "cell_type": "code",
   "execution_count": 20,
   "metadata": {},
   "outputs": [
    {
     "name": "stdout",
     "output_type": "stream",
     "text": [
      "<note date=\"12/11/99\">\n",
      "    <to>Craig</to>\n",
      "    <from>Megan</from>\n",
      "    <heading>Reminder</heading>\n",
      "    <body>\n",
      "        <p>Pick up my new spark plugs.</p>\n",
      "        <p>Love you, M</p>\n",
      "    </body>\n",
      "</note>\n"
     ]
    }
   ],
   "source": [
    "print(etree.tostring(root).decode())"
   ]
  },
  {
   "cell_type": "code",
   "execution_count": 21,
   "metadata": {},
   "outputs": [
    {
     "name": "stdout",
     "output_type": "stream",
     "text": [
      "<Element to at 0x7fa4fe7adb48>\n",
      "<Element from at 0x7fa4fe524088>\n",
      "<Element heading at 0x7fa4fe5240c8>\n",
      "<Element body at 0x7fa4fe7adb48>\n"
     ]
    }
   ],
   "source": [
    "for node in root:\n",
    "    print(node)\n",
    "\n",
    "# Notice \"note\" and \"p\" tags are not present."
   ]
  },
  {
   "cell_type": "code",
   "execution_count": 22,
   "metadata": {},
   "outputs": [
    {
     "data": {
      "text/plain": [
       "[<Element p at 0x7fa4fe7add88>, <Element p at 0x7fa4fef09208>]"
      ]
     },
     "execution_count": 22,
     "metadata": {},
     "output_type": "execute_result"
    }
   ],
   "source": [
    "tags = root.findall('.//p')  # must use XPath syntax to look up nested tags in tree, eg. \"p\"\n",
    "tags"
   ]
  },
  {
   "cell_type": "code",
   "execution_count": 23,
   "metadata": {},
   "outputs": [
    {
     "data": {
      "text/plain": [
       "'Pick up my new spark plugs.'"
      ]
     },
     "execution_count": 23,
     "metadata": {},
     "output_type": "execute_result"
    }
   ],
   "source": [
    "tags[0].text"
   ]
  },
  {
   "cell_type": "code",
   "execution_count": 24,
   "metadata": {},
   "outputs": [
    {
     "name": "stdout",
     "output_type": "stream",
     "text": [
      "<Element note at 0x7fa4fef06d48>\n",
      "<Element to at 0x7fa4fe5241c8>\n",
      "<Element from at 0x7fa4fe7ade08>\n",
      "<Element heading at 0x7fa4fef06c88>\n",
      "<Element body at 0x7fa4fe7adb48>\n",
      "<Element p at 0x7fa4fe7add88>\n",
      "<Element p at 0x7fa4fef09208>\n"
     ]
    }
   ],
   "source": [
    "# Could iterate over whole tree but that is not \n",
    "# very efficient if we just want the \"p\" tags.\n",
    "for element in root.iter():\n",
    "    print(element)"
   ]
  },
  {
   "cell_type": "code",
   "execution_count": 25,
   "metadata": {},
   "outputs": [
    {
     "data": {
      "text/plain": [
       "<Element note at 0x7fa4fef06d48>"
      ]
     },
     "execution_count": 25,
     "metadata": {},
     "output_type": "execute_result"
    }
   ],
   "source": [
    "# where did the \"note\" tag go? It bacame the root object.\n",
    "root"
   ]
  },
  {
   "cell_type": "code",
   "execution_count": 26,
   "metadata": {},
   "outputs": [
    {
     "data": {
      "text/plain": [
       "{'date': '12/11/99'}"
      ]
     },
     "execution_count": 26,
     "metadata": {},
     "output_type": "execute_result"
    }
   ],
   "source": [
    "root.attrib  # get attributes on root"
   ]
  },
  {
   "cell_type": "code",
   "execution_count": 27,
   "metadata": {},
   "outputs": [
    {
     "data": {
      "text/plain": [
       "b'<note date=\"12/11/99\">\\n    <to>Craig</to>\\n    <from>Megan</from>\\n    <heading>Reminder</heading>\\n    <body>\\n        <p>Pick up my new spark plugs.</p>\\n        <p>Love you, M</p>\\n    </body>\\n</note>'"
      ]
     },
     "execution_count": 27,
     "metadata": {},
     "output_type": "execute_result"
    }
   ],
   "source": [
    "etree.tostring(root)  # will return bytes!"
   ]
  },
  {
   "cell_type": "code",
   "execution_count": 28,
   "metadata": {},
   "outputs": [],
   "source": [
    "with open('CSV-JSON-XML-note-out.xml', 'wb') as fp:  # open the file for writing bytes\n",
    "    fp.write(etree.tostring(root))"
   ]
  },
  {
   "cell_type": "code",
   "execution_count": null,
   "metadata": {},
   "outputs": [],
   "source": [
    "# When to use XML? Never. Try not to use XML unless the project specifically requires it."
   ]
  }
 ],
 "metadata": {
  "kernelspec": {
   "display_name": "Python 3",
   "language": "python",
   "name": "python3"
  },
  "language_info": {
   "codemirror_mode": {
    "name": "ipython",
    "version": 3
   },
   "file_extension": ".py",
   "mimetype": "text/x-python",
   "name": "python",
   "nbconvert_exporter": "python",
   "pygments_lexer": "ipython3",
   "version": "3.7.3"
  }
 },
 "nbformat": 4,
 "nbformat_minor": 2
}
