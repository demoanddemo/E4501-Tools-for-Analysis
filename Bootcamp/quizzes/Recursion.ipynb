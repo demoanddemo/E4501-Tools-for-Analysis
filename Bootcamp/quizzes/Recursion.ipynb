{
 "cells": [
  {
   "cell_type": "markdown",
   "metadata": {},
   "source": [
    "### Question \n",
    "\n",
    "Create a recursive function named `cost_finder`. The function should take a nested dictionary structure of unknown depth and find return the values for all keys by the name 'cost'. The costs should be returned as a sorted list.\n",
    "\n",
    "```python\n",
    "data = {\n",
    "    'cost': 300000,\n",
    "    'item': 'house',\n",
    "    'parts': {\n",
    "        'kitchen': {\n",
    "            'cost': 35000,\n",
    "        },\n",
    "        'bedroom-1': {\n",
    "            'cost': 20000,\n",
    "        },\n",
    "        'master-bedroom': {\n",
    "            'cost': 15000,\n",
    "            'bathroom': {\n",
    "                'cost': 4000\n",
    "            }\n",
    "        },\n",
    "    }\n",
    "\n",
    "}\n",
    "\n",
    ">>> cost_finder(data)\n",
    "[4000, 15000, 20000, 35000, 300000]\n",
    "```\n",
    "        \n",
    "[2 points]"
   ]
  },
  {
   "cell_type": "code",
   "execution_count": null,
   "metadata": {
    "deletable": false,
    "nbgrader": {
     "checksum": "e34cf998abb9aade0cac95d49fddb4c2",
     "grade": false,
     "grade_id": "cell-77d6b89856edff11",
     "locked": false,
     "schema_version": 1,
     "solution": true
    }
   },
   "outputs": [],
   "source": [
    "# YOUR CODE HERE\n",
    "raise NotImplementedError()"
   ]
  },
  {
   "cell_type": "code",
   "execution_count": null,
   "metadata": {
    "deletable": false,
    "editable": false,
    "nbgrader": {
     "checksum": "ec1871eed480285bc140209fa324b119",
     "grade": true,
     "grade_id": "cell-2b01e1a81c90f327",
     "locked": true,
     "points": 0,
     "schema_version": 1,
     "solution": false
    }
   },
   "outputs": [],
   "source": []
  },
  {
   "cell_type": "code",
   "execution_count": null,
   "metadata": {
    "deletable": false,
    "editable": false,
    "nbgrader": {
     "checksum": "12a63efd2f579914eec0237e751025a8",
     "grade": true,
     "grade_id": "cell-37dd73df48618876",
     "locked": true,
     "points": 0,
     "schema_version": 1,
     "solution": false
    }
   },
   "outputs": [],
   "source": []
  }
 ],
 "metadata": {
  "kernelspec": {
   "display_name": "Python 3",
   "language": "python",
   "name": "python3"
  },
  "language_info": {
   "codemirror_mode": {
    "name": "ipython",
    "version": 3
   },
   "file_extension": ".py",
   "mimetype": "text/x-python",
   "name": "python",
   "nbconvert_exporter": "python",
   "pygments_lexer": "ipython3",
   "version": "3.7.3"
  }
 },
 "nbformat": 4,
 "nbformat_minor": 2
}
