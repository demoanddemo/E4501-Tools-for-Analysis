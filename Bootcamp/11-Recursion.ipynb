{
 "cells": [
  {
   "cell_type": "code",
   "execution_count": 1,
   "metadata": {},
   "outputs": [
    {
     "name": "stdout",
     "output_type": "stream",
     "text": [
      "x is 2 - Going deeper\n",
      "x is 1 - Going deeper\n",
      "x is 0 - Turning around\n",
      "x was 1 - Coming back up\n",
      "x was 2 - Coming back up\n"
     ]
    }
   ],
   "source": [
    "def dive(x):\n",
    "    if x > 0:\n",
    "        print(f'x is {x} - Going deeper')\n",
    "        dive(x - 1)  # x is decreased by 1 and that new value is passed to dive\n",
    "        print(f'x was {x} - Coming back up')\n",
    "    else:\n",
    "        print(f'x is {x} - Turning around')  # base case\n",
    "\n",
    "dive(2)  # <- First call to `func`"
   ]
  },
  {
   "cell_type": "code",
   "execution_count": 2,
   "metadata": {},
   "outputs": [],
   "source": [
    "def add(a, b):\n",
    "    return a + b\n",
    "\n",
    "add(1, 2)"
   ]
  },
  {
   "cell_type": "markdown",
   "metadata": {},
   "source": [
    "---"
   ]
  },
  {
   "cell_type": "markdown",
   "metadata": {},
   "source": [
    "Create a function flatten that takes a list of lists and flattens the structure into a single list.\n",
    "\n",
    "```python\n",
    ">>> def flatten(list_):\n",
    "...     # implement me\n",
    "...     pass\n",
    "...\n",
    ">>> list_ = [1, [[2, 4], 5], [8, 9, [4, [4]]]]\n",
    ">>> flatten(list_)\n",
    "[1, 2, 4, 5, 8, 9, 4, 4]\n",
    "```"
   ]
  },
  {
   "cell_type": "code",
   "execution_count": null,
   "metadata": {},
   "outputs": [],
   "source": [
    "def flatten(list_):\n",
    "    new_list = []\n",
    "    for item in list_:\n",
    "        # Look at each item in iterable. \n",
    "        if isinstance(item, list):  \n",
    "            # If the item is a list, then flatten that list\n",
    "            print('passed IN', item)\n",
    "            flattened_inner_list = flatten(item)\n",
    "            print('handed OUT', flattened_inner_list)\n",
    "            new_list.extend(flattened_inner_list)\n",
    "        else:\n",
    "            # If the item is not a list, just append it to the growing flat list that will be returned.\n",
    "            new_list.append(item)  # base case\n",
    "    return new_list\n",
    "\n",
    "list_ = [0, 1, [[2, 3], 4], [5, 6, [7, [8, [9]]]]]\n",
    "flatten(list_)"
   ]
  },
  {
   "cell_type": "code",
   "execution_count": 9,
   "metadata": {},
   "outputs": [
    {
     "data": {
      "text/plain": [
       "[0, 1, 2, 3, 4, 5, 6, 7, 8, 9]"
      ]
     },
     "execution_count": 9,
     "metadata": {},
     "output_type": "execute_result"
    }
   ],
   "source": [
    "def flatten(list_):\n",
    "    new_list = []\n",
    "    \n",
    "    for item in list_:\n",
    "        if isinstance(item, list):\n",
    "            new_list.extend(flatten(item))            \n",
    "        else:\n",
    "            new_list.append(item) # base case\n",
    "    \n",
    "    return new_list\n",
    "\n",
    "list_ = [0, 1, [[2, 3], 4], [5, 6, [7, [8, [9]]]]]\n",
    "flatten(list_)"
   ]
  },
  {
   "cell_type": "markdown",
   "metadata": {},
   "source": [
    "NB! Solving the main problem requires solving two simpler instances of the main problem."
   ]
  },
  {
   "cell_type": "markdown",
   "metadata": {},
   "source": [
    "---"
   ]
  },
  {
   "cell_type": "markdown",
   "metadata": {},
   "source": [
    "###### Exercise\n",
    "\n",
    "Create a recursive function that returns a `bool` indicating whether or not a string is a palindrome.\n",
    "\n",
    "```python\n",
    "def is_palindrome(string: str) -> bool:\n",
    "    pass\n",
    "```"
   ]
  },
  {
   "cell_type": "code",
   "execution_count": 11,
   "metadata": {},
   "outputs": [],
   "source": [
    "### Strip for lecture\n",
    "def is_palindrome(string: str) -> bool:\n",
    "    if string == '':\n",
    "        return True  # base case\n",
    "    \n",
    "    if string[0] == string[-1]:\n",
    "        return is_palindrome(string[1:-1])\n",
    "    else:\n",
    "        return False  # base case\n",
    "\n",
    "assert is_palindrome('mom')\n",
    "assert is_palindrome('racecar')\n",
    "assert not is_palindrome('bobby')"
   ]
  },
  {
   "cell_type": "markdown",
   "metadata": {},
   "source": [
    "https://www.google.com/search?q=recursion (Fun Fun Fun)"
   ]
  },
  {
   "cell_type": "code",
   "execution_count": null,
   "metadata": {},
   "outputs": [],
   "source": []
  }
 ],
 "metadata": {
  "kernelspec": {
   "display_name": "Python 3",
   "language": "python",
   "name": "python3"
  },
  "language_info": {
   "codemirror_mode": {
    "name": "ipython",
    "version": 3
   },
   "file_extension": ".py",
   "mimetype": "text/x-python",
   "name": "python",
   "nbconvert_exporter": "python",
   "pygments_lexer": "ipython3",
   "version": "3.6.7"
  }
 },
 "nbformat": 4,
 "nbformat_minor": 2
}
