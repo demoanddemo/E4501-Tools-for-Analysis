{
 "cells": [
  {
   "cell_type": "code",
   "execution_count": 1,
   "metadata": {},
   "outputs": [
    {
     "data": {
      "text/plain": [
       "3"
      ]
     },
     "execution_count": 1,
     "metadata": {},
     "output_type": "execute_result"
    }
   ],
   "source": [
    "# Since Python 3.6, we can annotate the types that a function will recieve.\n",
    "\n",
    "# Type annotations can hint at what the types \n",
    "# are for the values passed into and returned from a function.\n",
    "def my_integer_sum(a: int, b: int) -> int:\n",
    "    return sum((a, b))\n",
    "\n",
    "my_integer_sum(1, 2)"
   ]
  },
  {
   "cell_type": "code",
   "execution_count": 2,
   "metadata": {},
   "outputs": [
    {
     "data": {
      "text/plain": [
       "3.0"
      ]
     },
     "execution_count": 2,
     "metadata": {},
     "output_type": "execute_result"
    }
   ],
   "source": [
    "def my_float_sum(a: float, b: float) -> float:\n",
    "    return sum((a, b))\n",
    "\n",
    "my_integer_sum(1.0, 2.0)"
   ]
  },
  {
   "cell_type": "code",
   "execution_count": 3,
   "metadata": {},
   "outputs": [
    {
     "data": {
      "text/plain": [
       "6.0"
      ]
     },
     "execution_count": 3,
     "metadata": {},
     "output_type": "execute_result"
    }
   ],
   "source": [
    "# Different typing constructs can be imported from \"typing\" to \n",
    "# annotate more sophisticated structures.\n",
    "from typing import Sequence\n",
    "\n",
    "def my_sum(*args: Sequence[float]) -> float:\n",
    "    return sum(args)\n",
    "\n",
    "my_sum(1.0, 2.0, 3.0)"
   ]
  },
  {
   "cell_type": "code",
   "execution_count": 1,
   "metadata": {},
   "outputs": [
    {
     "data": {
      "text/plain": [
       "(6+4j)"
      ]
     },
     "execution_count": 1,
     "metadata": {},
     "output_type": "execute_result"
    }
   ],
   "source": [
    "from typing import Sequence, TypeVar\n",
    "\n",
    "# Can create our own sophisticated structures.\n",
    "Number = TypeVar(int, float, complex)\n",
    "\n",
    "def my_sum(*args: Sequence[Number]) -> Number:\n",
    "    return sum(args)\n",
    "\n",
    "my_sum(1, 2.0, 3 + 4j)"
   ]
  },
  {
   "cell_type": "code",
   "execution_count": null,
   "metadata": {},
   "outputs": [],
   "source": [
    "class MyType(type):\n",
    "    pass\n",
    "\n",
    "\n",
    "def myfunc(a: MyType) -> int:\n",
    "    return "
   ]
  },
  {
   "cell_type": "code",
   "execution_count": 2,
   "metadata": {},
   "outputs": [
    {
     "data": {
      "text/plain": [
       "'jazzhands'"
      ]
     },
     "execution_count": 2,
     "metadata": {},
     "output_type": "execute_result"
    }
   ],
   "source": [
    "# Typing is not obeyed in Python! \n",
    "\n",
    "def binary_sum(a: int, b: float) -> float:\n",
    "    return a + b\n",
    "\n",
    "binary_sum('jazz', 'hands')"
   ]
  },
  {
   "cell_type": "markdown",
   "metadata": {},
   "source": [
    "Typing used in class, homeworks, and exams will aid in describing the problem."
   ]
  }
 ],
 "metadata": {
  "kernelspec": {
   "display_name": "Python 3",
   "language": "python",
   "name": "python3"
  },
  "language_info": {
   "codemirror_mode": {
    "name": "ipython",
    "version": 3
   },
   "file_extension": ".py",
   "mimetype": "text/x-python",
   "name": "python",
   "nbconvert_exporter": "python",
   "pygments_lexer": "ipython3",
   "version": "3.6.7"
  }
 },
 "nbformat": 4,
 "nbformat_minor": 2
}
