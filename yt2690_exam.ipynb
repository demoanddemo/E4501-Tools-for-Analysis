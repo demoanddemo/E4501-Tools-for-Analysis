{
 "cells": [
  {
   "cell_type": "markdown",
   "metadata": {
    "deletable": false,
    "editable": false,
    "nbgrader": {
     "checksum": "019cf3060c966c587bdf3d06dc43ae44",
     "grade": false,
     "grade_id": "cell-ef5b66d42bd77e43",
     "locked": true,
     "schema_version": 1,
     "solution": false
    }
   },
   "source": [
    "READ ME:\n",
    "\n",
    "Permissions for this test: \n",
    "\n",
    "- No talking until you have left the room.\n",
    "- This is a closed note, closed book, closed internet exam.\n",
    "- You may have one jupyter notebook (this notebook) open for the duration of the exam.\n",
    "- You may have one tab open solely for the act of submitting your exam.\n",
    "\n",
    "To  begin the exam:\n",
    "\n",
    "- **Rename the notebook to be of the form `<uni>_exam`. For example, mine would be `pl2648_exam`.**\n",
    "\n",
    "When you are done with your exam:\n",
    "\n",
    "1. Save this exam.\n",
    "1. Download this exam from your Jupyter Notebook tab as an **`.ipynb`** file.\n",
    "1. Upload/email/etc the **`.ipynb`** file to the submission platform designated by the exam proctor.\n",
    "\n",
    "----\n",
    "\n",
    "Please note, there are several cells in this Jupyter notebook that are empty and read only. Do not attempt to remove them or edit them. They are used in grading your notebook.\n",
    "\n",
    "- DO remove the \"Not Implemented\" lines if you at all attempt the problem.\n",
    "- DO test all cells to make sure they run in 30 seconds or less."
   ]
  },
  {
   "cell_type": "markdown",
   "metadata": {
    "deletable": false,
    "editable": false,
    "nbgrader": {
     "checksum": "5f5fc9b3cf782cc343613756808a19c8",
     "grade": false,
     "grade_id": "cell-129aa5426cd81ef8",
     "locked": true,
     "schema_version": 1,
     "solution": false
    }
   },
   "source": [
    "### Question\n",
    "\n",
    "Write a class named `StopWatch`. This class should have `start`, `stop`, and `lap` methods. \n",
    "\n",
    "An instance of the `StopWatch` class should keep track of each start-stop pair that have occurred; much like an exercise stop watch. After `start` is called, `stop` can be called to track the time since `start` was called. If `start` has been called the only valid method call is `stop`. If `stop` has been called, `start` or `lap` can be called. If `start` has been called but `stop` has not yet been called and `start` or `lap` are called, a `RuntimeError` should be raised. \n",
    "\n",
    "`lap` must be called with a zero based integer index into the sequence of start-stop pairs. `lap` should return the time between the start and stop time stamps for that lap. If an index passed to `lap` is out of bounds of the valid laps, an `IndexError` should be raised. The units of time can be equivalent to those provided by the standard library's `time.time` function.\n",
    "\n",
    "\n",
    "```python\n",
    "sw = StopWatch()\n",
    "sw.start()\n",
    "# wait about five seconds\n",
    "sw.stop()\n",
    "sw.lap(0)\n",
    "    5.007094860076904\n",
    "\n",
    "sw.lap(1)\n",
    "    IndexError: list index out of range\n",
    "\n",
    "sw.start()\n",
    "sw.start()\n",
    "    RuntimeError: Can not start StopWatch when it is already running\n",
    "```\n",
    "[4 points]"
   ]
  },
  {
   "cell_type": "code",
   "execution_count": 46,
   "metadata": {
    "deletable": false,
    "nbgrader": {
     "checksum": "903f121f61f7b158f1d2bf28001c692a",
     "grade": false,
     "grade_id": "cell-f6292be44440b141",
     "locked": false,
     "schema_version": 1,
     "solution": true
    }
   },
   "outputs": [],
   "source": [
    "import time\n",
    "\n",
    "class StopWatch(object):\n",
    "    def __init__(self):\n",
    "        self.start_time = 0\n",
    "        self.end_time = 0\n",
    "        self.running = False\n",
    "        self.lapping = []\n",
    "    \n",
    "    def start(self):\n",
    "        if not self.running:\n",
    "            self.start_time = time.time()\n",
    "            self.running = True\n",
    "        else:\n",
    "            raise RuntimeError(\"Can not start StopWatch when it is already running\")\n",
    "        \n",
    "    def stop(self):\n",
    "        if self.running:\n",
    "            self.end_time = time.time()\n",
    "            self.lapping.append(self.end_time - self.start_time)\n",
    "            self.running = False\n",
    "        else:\n",
    "            raise RuntimeError(\"Cannot call stop before calling `start`\")\n",
    "        \n",
    "    def lap(self, index):\n",
    "        if self.running:\n",
    "            raise RuntimeError(\"Cannot call lap while running\")\n",
    "            \n",
    "        return self.lapping[index]"
   ]
  },
  {
   "cell_type": "code",
   "execution_count": 47,
   "metadata": {},
   "outputs": [
    {
     "data": {
      "text/plain": [
       "5.007426023483276"
      ]
     },
     "execution_count": 47,
     "metadata": {},
     "output_type": "execute_result"
    }
   ],
   "source": [
    "sw = StopWatch()\n",
    "sw.start()\n",
    "time.sleep(5)\n",
    "sw.stop()\n",
    "sw.lap(0)"
   ]
  },
  {
   "cell_type": "code",
   "execution_count": 48,
   "metadata": {},
   "outputs": [
    {
     "ename": "IndexError",
     "evalue": "list index out of range",
     "output_type": "error",
     "traceback": [
      "\u001b[0;31m---------------------------------------------------------------------------\u001b[0m",
      "\u001b[0;31mIndexError\u001b[0m                                Traceback (most recent call last)",
      "\u001b[0;32m<ipython-input-48-84bee3616198>\u001b[0m in \u001b[0;36m<module>\u001b[0;34m\u001b[0m\n\u001b[0;32m----> 1\u001b[0;31m \u001b[0msw\u001b[0m\u001b[0;34m.\u001b[0m\u001b[0mlap\u001b[0m\u001b[0;34m(\u001b[0m\u001b[0;36m1\u001b[0m\u001b[0;34m)\u001b[0m\u001b[0;34m\u001b[0m\u001b[0;34m\u001b[0m\u001b[0m\n\u001b[0m",
      "\u001b[0;32m<ipython-input-46-2f98730c64d3>\u001b[0m in \u001b[0;36mlap\u001b[0;34m(self, index)\u001b[0m\n\u001b[1;32m     27\u001b[0m             \u001b[0;32mraise\u001b[0m \u001b[0mRuntimeError\u001b[0m\u001b[0;34m(\u001b[0m\u001b[0;34m\"Cannot call lap while running\"\u001b[0m\u001b[0;34m)\u001b[0m\u001b[0;34m\u001b[0m\u001b[0;34m\u001b[0m\u001b[0m\n\u001b[1;32m     28\u001b[0m \u001b[0;34m\u001b[0m\u001b[0m\n\u001b[0;32m---> 29\u001b[0;31m         \u001b[0;32mreturn\u001b[0m \u001b[0mself\u001b[0m\u001b[0;34m.\u001b[0m\u001b[0mlapping\u001b[0m\u001b[0;34m[\u001b[0m\u001b[0mindex\u001b[0m\u001b[0;34m]\u001b[0m\u001b[0;34m\u001b[0m\u001b[0;34m\u001b[0m\u001b[0m\n\u001b[0m",
      "\u001b[0;31mIndexError\u001b[0m: list index out of range"
     ]
    }
   ],
   "source": [
    "sw.lap(1)"
   ]
  },
  {
   "cell_type": "code",
   "execution_count": 49,
   "metadata": {},
   "outputs": [
    {
     "ename": "RuntimeError",
     "evalue": "Can not start StopWatch when it is already running",
     "output_type": "error",
     "traceback": [
      "\u001b[0;31m---------------------------------------------------------------------------\u001b[0m",
      "\u001b[0;31mRuntimeError\u001b[0m                              Traceback (most recent call last)",
      "\u001b[0;32m<ipython-input-49-43538b7f48b8>\u001b[0m in \u001b[0;36m<module>\u001b[0;34m\u001b[0m\n\u001b[1;32m      1\u001b[0m \u001b[0msw\u001b[0m\u001b[0;34m.\u001b[0m\u001b[0mstart\u001b[0m\u001b[0;34m(\u001b[0m\u001b[0;34m)\u001b[0m\u001b[0;34m\u001b[0m\u001b[0;34m\u001b[0m\u001b[0m\n\u001b[0;32m----> 2\u001b[0;31m \u001b[0msw\u001b[0m\u001b[0;34m.\u001b[0m\u001b[0mstart\u001b[0m\u001b[0;34m(\u001b[0m\u001b[0;34m)\u001b[0m\u001b[0;34m\u001b[0m\u001b[0;34m\u001b[0m\u001b[0m\n\u001b[0m",
      "\u001b[0;32m<ipython-input-46-2f98730c64d3>\u001b[0m in \u001b[0;36mstart\u001b[0;34m(self)\u001b[0m\n\u001b[1;32m     13\u001b[0m             \u001b[0mself\u001b[0m\u001b[0;34m.\u001b[0m\u001b[0mrunning\u001b[0m \u001b[0;34m=\u001b[0m \u001b[0;32mTrue\u001b[0m\u001b[0;34m\u001b[0m\u001b[0;34m\u001b[0m\u001b[0m\n\u001b[1;32m     14\u001b[0m         \u001b[0;32melse\u001b[0m\u001b[0;34m:\u001b[0m\u001b[0;34m\u001b[0m\u001b[0;34m\u001b[0m\u001b[0m\n\u001b[0;32m---> 15\u001b[0;31m             \u001b[0;32mraise\u001b[0m \u001b[0mRuntimeError\u001b[0m\u001b[0;34m(\u001b[0m\u001b[0;34m\"Can not start StopWatch when it is already running\"\u001b[0m\u001b[0;34m)\u001b[0m\u001b[0;34m\u001b[0m\u001b[0;34m\u001b[0m\u001b[0m\n\u001b[0m\u001b[1;32m     16\u001b[0m \u001b[0;34m\u001b[0m\u001b[0m\n\u001b[1;32m     17\u001b[0m     \u001b[0;32mdef\u001b[0m \u001b[0mstop\u001b[0m\u001b[0;34m(\u001b[0m\u001b[0mself\u001b[0m\u001b[0;34m)\u001b[0m\u001b[0;34m:\u001b[0m\u001b[0;34m\u001b[0m\u001b[0;34m\u001b[0m\u001b[0m\n",
      "\u001b[0;31mRuntimeError\u001b[0m: Can not start StopWatch when it is already running"
     ]
    }
   ],
   "source": [
    "sw.start()\n",
    "sw.start()"
   ]
  },
  {
   "cell_type": "code",
   "execution_count": null,
   "metadata": {},
   "outputs": [],
   "source": []
  },
  {
   "cell_type": "code",
   "execution_count": null,
   "metadata": {
    "deletable": false,
    "editable": false,
    "nbgrader": {
     "checksum": "c4503d5ca805bd8dd5ab8347c382fa59",
     "grade": true,
     "grade_id": "cell-53a9f83e25d13262",
     "locked": true,
     "points": 1,
     "schema_version": 1,
     "solution": false
    }
   },
   "outputs": [],
   "source": []
  },
  {
   "cell_type": "code",
   "execution_count": null,
   "metadata": {
    "deletable": false,
    "editable": false,
    "nbgrader": {
     "checksum": "271b5e506196bbed4e12922241d87293",
     "grade": true,
     "grade_id": "cell-4d9e6474cf7ddeca",
     "locked": true,
     "points": 1,
     "schema_version": 1,
     "solution": false
    }
   },
   "outputs": [],
   "source": []
  },
  {
   "cell_type": "code",
   "execution_count": null,
   "metadata": {
    "deletable": false,
    "editable": false,
    "nbgrader": {
     "checksum": "a1e47044f9b25fa06068494269271611",
     "grade": true,
     "grade_id": "cell-5fef234cf1144697",
     "locked": true,
     "points": 0,
     "schema_version": 1,
     "solution": false
    }
   },
   "outputs": [],
   "source": []
  },
  {
   "cell_type": "code",
   "execution_count": null,
   "metadata": {
    "deletable": false,
    "editable": false,
    "nbgrader": {
     "checksum": "7fc74d995d95025722a3b585876328a0",
     "grade": true,
     "grade_id": "cell-75766690dce70e1f",
     "locked": true,
     "points": 1,
     "schema_version": 1,
     "solution": false
    }
   },
   "outputs": [],
   "source": []
  },
  {
   "cell_type": "code",
   "execution_count": null,
   "metadata": {
    "deletable": false,
    "editable": false,
    "nbgrader": {
     "checksum": "ae411ac3dff518af6ccaeac363ceda11",
     "grade": true,
     "grade_id": "cell-0819cab8bb31b2b2",
     "locked": true,
     "points": 1,
     "schema_version": 1,
     "solution": false
    }
   },
   "outputs": [],
   "source": []
  },
  {
   "cell_type": "markdown",
   "metadata": {
    "deletable": false,
    "editable": false,
    "nbgrader": {
     "checksum": "40bb5b878aa416b93444bdeb940c48c9",
     "grade": false,
     "grade_id": "cell-9a7e22503982d594",
     "locked": true,
     "schema_version": 1,
     "solution": false
    }
   },
   "source": [
    "### Question \n",
    "\n",
    "Create a function named `iterable_to_dict`. This function should take any iterable and add its members to a dictionary as members of lists where the member containing lists are the values of the dictionary. The key for each value (each list) should be the first list item's address in memory expressed as a hex address string. If a value for the optional keyword argument `key_func` is passed to the function, the `key_func` should be used to determine an item's key. Each item should be passed to `key_func` to determine the list's key. If there is a key collision, the list of items for a particular key should be increased to include the new item.\n",
    "\n",
    "For example:\n",
    "\n",
    "```python\n",
    "iterable_to_dict((1, 2, 3, 4, 5))\n",
    "{'0x109258440': [1],\n",
    " '0x109258460': [2],\n",
    " '0x109258480': [3],\n",
    " '0x1092584a0': [4],\n",
    " '0x1092584c0': [5]}\n",
    "\n",
    "\n",
    "iterable_to_dict((1, 2, 3, 4, 5), key_func=lambda x: 'a')\n",
    "{'a': [1, 2, 3, 4, 5]}\n",
    "```\n",
    "\n",
    "[3 points]"
   ]
  },
  {
   "cell_type": "code",
   "execution_count": 1,
   "metadata": {
    "deletable": false,
    "nbgrader": {
     "checksum": "e15494fb93acab3f62e55b2b747e1bf6",
     "grade": false,
     "grade_id": "cell-9a0363302483e2d1",
     "locked": false,
     "schema_version": 1,
     "solution": true
    }
   },
   "outputs": [],
   "source": [
    "def iterable_to_dict(t, key_func=None):\n",
    "    if not key_func:\n",
    "        key_func = lambda x: hex(id(x))\n",
    "    \n",
    "    ans = {}\n",
    "    for value in t:\n",
    "        if key_func(value) in ans.keys():\n",
    "            ans[ key_func(value) ].append(value)\n",
    "        else:\n",
    "            ans[ key_func(value) ] = [value]\n",
    "        \n",
    "    return ans"
   ]
  },
  {
   "cell_type": "code",
   "execution_count": 3,
   "metadata": {},
   "outputs": [
    {
     "data": {
      "text/plain": [
       "({'0x55836c41c420': [1],\n",
       "  '0x55836c41c440': [2],\n",
       "  '0x55836c41c460': [3],\n",
       "  '0x55836c41c480': [4],\n",
       "  '0x55836c41c4a0': [5]},\n",
       " {'a': [1, 2, 3, 4, 5]})"
      ]
     },
     "execution_count": 3,
     "metadata": {},
     "output_type": "execute_result"
    }
   ],
   "source": [
    "iterable_to_dict((1, 2, 3, 4, 5)), iterable_to_dict((1, 2, 3, 4, 5), key_func=lambda x: 'a')"
   ]
  },
  {
   "cell_type": "code",
   "execution_count": null,
   "metadata": {
    "deletable": false,
    "editable": false,
    "nbgrader": {
     "checksum": "b3e42f71b5500cf58741196adc009662",
     "grade": true,
     "grade_id": "cell-9efae76d7cc2794e",
     "locked": true,
     "points": 1,
     "schema_version": 1,
     "solution": false
    }
   },
   "outputs": [],
   "source": []
  },
  {
   "cell_type": "code",
   "execution_count": null,
   "metadata": {
    "deletable": false,
    "editable": false,
    "nbgrader": {
     "checksum": "cfd8b1b05ef4ede3f9c9f5e0a7d561af",
     "grade": true,
     "grade_id": "cell-755c9190b5a51c9b",
     "locked": true,
     "points": 1,
     "schema_version": 1,
     "solution": false
    }
   },
   "outputs": [],
   "source": []
  },
  {
   "cell_type": "code",
   "execution_count": null,
   "metadata": {
    "deletable": false,
    "editable": false,
    "nbgrader": {
     "checksum": "31006902c287a70ee1f884c6eedc899f",
     "grade": true,
     "grade_id": "cell-8e8d94dca63e0546",
     "locked": true,
     "points": 1,
     "schema_version": 1,
     "solution": false
    }
   },
   "outputs": [],
   "source": []
  },
  {
   "cell_type": "markdown",
   "metadata": {
    "deletable": false,
    "editable": false,
    "nbgrader": {
     "checksum": "04b8cdc1de9ac4bca5124e19e26e039d",
     "grade": false,
     "grade_id": "cell-13fa838cb24b1967",
     "locked": true,
     "schema_version": 1,
     "solution": false
    }
   },
   "source": [
    "### Question\n",
    "\n",
    "NYC has all sorts of taxi types. Yellow Cab, Service Car, Uber, Lyft, maybe even 滴滴.\n",
    "\n",
    "Let's assume each license plate number can give us hints on what service the car drives for. For example, if a license plate number starts with a T, we can assume its a taxi of some sort. If the number ends with a C, then its . a Yellow Cab. If it ends with a U, then the taxi is an Uber. The rest of the mappings are as described below.\n",
    "\n",
    "- T123E5C  # Yellow Cab\n",
    "- T34567S  # Service Car\n",
    "- T5J788U  # Uber\n",
    "- T987Q5L  # Lyft\n",
    "- T27865D  # DiDi \n",
    "- 36A78ED  # Not a taxi\n",
    "\n",
    "The number/letter comboniation in between the first and last digits give us the taxi ID if the plate number is for a taxi. Otherwise, they are just part of the greater license plate number.\n",
    "\n",
    "Write a regular expression to return an `re.match` object with the following match groups if compared with a taxi number. Otherwise, the pattern should cause `re.match` to return `None`. You should assume the taxi ID will always be 5 digits and the service type will always be 1 digit long.\n",
    "\n",
    "```python\n",
    "\"T<taxi_id><service_type>\"\n",
    "```\n",
    "\n",
    "[3 points]"
   ]
  },
  {
   "cell_type": "code",
   "execution_count": 14,
   "metadata": {
    "deletable": false,
    "nbgrader": {
     "checksum": "583ae21abaeb09f6d771d9a29cc03e88",
     "grade": false,
     "grade_id": "re",
     "locked": false,
     "schema_version": 1,
     "solution": true
    }
   },
   "outputs": [],
   "source": [
    "import re\n",
    "\n",
    "def parse_number(plate_number):\n",
    "    pattern_string = r'''\n",
    "        T(?P<taxi_id>\\w+)(?P<service_type>[A-Z]$)\n",
    "    '''\n",
    "    flags = (re.VERBOSE | re.IGNORECASE)\n",
    "    return re.match(pattern_string, plate_number, flags=flags)"
   ]
  },
  {
   "cell_type": "code",
   "execution_count": 22,
   "metadata": {},
   "outputs": [
    {
     "data": {
      "text/plain": [
       "('987Q5', 'L')"
      ]
     },
     "execution_count": 22,
     "metadata": {},
     "output_type": "execute_result"
    }
   ],
   "source": [
    "parse_number(\"T123E5C\").groups() # Yellow Cab\n",
    "parse_number(\"T34567S\").groups() # Service Car\n",
    "parse_number(\"T5J788U\").groups() # Uber\n",
    "parse_number(\"T987Q5L\").groups() # Lyft\n",
    "parse_number(\"T27865D\").groups() # DiDi\n",
    "# parse_number(\"36A78ED\").groups() # Not a taxi"
   ]
  },
  {
   "cell_type": "code",
   "execution_count": null,
   "metadata": {
    "deletable": false,
    "editable": false,
    "nbgrader": {
     "checksum": "5c93676dfebe2d9e85d7fedb5dc7d020",
     "grade": true,
     "grade_id": "cell-2cf89dead6cbc6dd",
     "locked": true,
     "points": 0.25,
     "schema_version": 1,
     "solution": false
    }
   },
   "outputs": [],
   "source": []
  },
  {
   "cell_type": "code",
   "execution_count": null,
   "metadata": {
    "deletable": false,
    "editable": false,
    "nbgrader": {
     "checksum": "c6f6abd74db84716d9d27ed3c110c0f1",
     "grade": true,
     "grade_id": "cell-3d5bb86fbca97c0a",
     "locked": true,
     "points": 0.25,
     "schema_version": 1,
     "solution": false
    }
   },
   "outputs": [],
   "source": []
  },
  {
   "cell_type": "code",
   "execution_count": null,
   "metadata": {
    "deletable": false,
    "editable": false,
    "nbgrader": {
     "checksum": "d1ddace7f9ab676d1ca3cd901c14efc0",
     "grade": true,
     "grade_id": "cell-eedca7e1c0c87482",
     "locked": true,
     "points": 0.25,
     "schema_version": 1,
     "solution": false
    }
   },
   "outputs": [],
   "source": []
  },
  {
   "cell_type": "code",
   "execution_count": null,
   "metadata": {
    "deletable": false,
    "editable": false,
    "nbgrader": {
     "checksum": "44756727dc1e099cde0d5187ea19febc",
     "grade": true,
     "grade_id": "cell-4e1b657617b80ea9",
     "locked": true,
     "points": 0.25,
     "schema_version": 1,
     "solution": false
    }
   },
   "outputs": [],
   "source": []
  },
  {
   "cell_type": "code",
   "execution_count": null,
   "metadata": {
    "deletable": false,
    "editable": false,
    "nbgrader": {
     "checksum": "073a8aa6e2088576142c8d1a99382fbd",
     "grade": true,
     "grade_id": "cell-dbd462c50dfe520f",
     "locked": true,
     "points": 0.25,
     "schema_version": 1,
     "solution": false
    }
   },
   "outputs": [],
   "source": []
  },
  {
   "cell_type": "code",
   "execution_count": null,
   "metadata": {
    "deletable": false,
    "editable": false,
    "nbgrader": {
     "checksum": "a988c3ff71ddaad4655af8978a6a6dae",
     "grade": true,
     "grade_id": "cell-eecb08d0724dc269",
     "locked": true,
     "points": 0.25,
     "schema_version": 1,
     "solution": false
    }
   },
   "outputs": [],
   "source": []
  },
  {
   "cell_type": "code",
   "execution_count": null,
   "metadata": {
    "deletable": false,
    "editable": false,
    "nbgrader": {
     "checksum": "6e45c667c90cf97f4ec843078a8ed256",
     "grade": true,
     "grade_id": "cell-c140172064312769",
     "locked": true,
     "points": 0.25,
     "schema_version": 1,
     "solution": false
    }
   },
   "outputs": [],
   "source": []
  },
  {
   "cell_type": "code",
   "execution_count": null,
   "metadata": {
    "deletable": false,
    "editable": false,
    "nbgrader": {
     "checksum": "8623d0292a840dbda2633eda9bc90b45",
     "grade": true,
     "grade_id": "cell-c450c53749c64b66",
     "locked": true,
     "points": 0.25,
     "schema_version": 1,
     "solution": false
    }
   },
   "outputs": [],
   "source": []
  },
  {
   "cell_type": "code",
   "execution_count": null,
   "metadata": {
    "deletable": false,
    "editable": false,
    "nbgrader": {
     "checksum": "774d127cd43cc8203f3227114df0a7fe",
     "grade": true,
     "grade_id": "cell-1ee02bd87cab9ab1",
     "locked": true,
     "points": 0.25,
     "schema_version": 1,
     "solution": false
    }
   },
   "outputs": [],
   "source": []
  },
  {
   "cell_type": "code",
   "execution_count": null,
   "metadata": {
    "deletable": false,
    "editable": false,
    "nbgrader": {
     "checksum": "a5697e05ac0b5ba3711335c8fc9c2712",
     "grade": true,
     "grade_id": "cell-cfddb78054ea2c23",
     "locked": true,
     "points": 0.25,
     "schema_version": 1,
     "solution": false
    }
   },
   "outputs": [],
   "source": []
  },
  {
   "cell_type": "code",
   "execution_count": null,
   "metadata": {
    "deletable": false,
    "editable": false,
    "nbgrader": {
     "checksum": "aac820000f0bd25f210d5b7700168477",
     "grade": true,
     "grade_id": "cell-6c42ff197feb3ab7",
     "locked": true,
     "points": 0.5,
     "schema_version": 1,
     "solution": false
    }
   },
   "outputs": [],
   "source": []
  },
  {
   "cell_type": "markdown",
   "metadata": {
    "deletable": false,
    "editable": false,
    "nbgrader": {
     "checksum": "126253ee8d6d8f479ea33ca3e70f8f70",
     "grade": false,
     "grade_id": "cell-5f572a1bbea84ee5",
     "locked": true,
     "schema_version": 1,
     "solution": false
    }
   },
   "source": [
    "### Question\n",
    "\n",
    "You are given a nested data structure like the following:\n",
    "\n",
    "```python\n",
    "{\n",
    "    'a': {\n",
    "        'b': 'c', \n",
    "        'd': 'e',\n",
    "        'f': ['g', 'h', 'i'],\n",
    "    },\n",
    "    'j': ('k', 'l', 'm'),\n",
    "    'n': 'o',\n",
    "    'p': {'q', 'r', 's', 't'},\n",
    "    'u': {\n",
    "        'v': {\n",
    "            'w': 'x',\n",
    "            'y': 'z'\n",
    "        }\n",
    "    }\n",
    "}\n",
    "```\n",
    "\n",
    "Write a recursive function `count_values` to find the number of values (for all keys) in the structure. However, the number of values should be counted in a special way. \n",
    "\n",
    "- If the value is a string, count the number of characters in the string.\n",
    "- If the value is a list, tuple, or set, recurisvely count the number of items in the iterable. Be careful to not count the list, tuple, or set itself.\n",
    "- If the value is a dict, recursively count the number of values in the dict.\n",
    "\n",
    "In the example above, the result should be 15.\n",
    "\n",
    "You can not assume the outermost structure is a dictionary. Your function should take one positional argument.\n",
    "\n",
    "[3 points]"
   ]
  },
  {
   "cell_type": "code",
   "execution_count": 34,
   "metadata": {
    "deletable": false,
    "nbgrader": {
     "checksum": "c20cba91b27f898e9a2ed6e951aa3c51",
     "grade": false,
     "grade_id": "cell-aad895d0de608294",
     "locked": false,
     "schema_version": 1,
     "solution": true
    }
   },
   "outputs": [],
   "source": [
    "def count_values(obj):\n",
    "    ans = 0\n",
    "    \n",
    "    if isinstance(obj, (tuple, list, set)):\n",
    "        for value in obj:\n",
    "            ans += count_values(value)\n",
    "            \n",
    "    elif isinstance(obj, dict):\n",
    "        for value in obj.values():\n",
    "            ans += count_values(value)\n",
    "            \n",
    "    elif isinstance(obj, str):\n",
    "        ans += 1\n",
    "        \n",
    "    return ans"
   ]
  },
  {
   "cell_type": "code",
   "execution_count": 35,
   "metadata": {},
   "outputs": [
    {
     "data": {
      "text/plain": [
       "15"
      ]
     },
     "execution_count": 35,
     "metadata": {},
     "output_type": "execute_result"
    }
   ],
   "source": [
    "count_values(obj={\n",
    "    'a': {\n",
    "        'b': 'c', \n",
    "        'd': 'e',\n",
    "        'f': ['g', 'h', 'i'],\n",
    "    },\n",
    "    'j': ('k', 'l', 'm'),\n",
    "    'n': 'o',\n",
    "    'p': {'q', 'r', 's', 't'},\n",
    "    'u': {\n",
    "        'v': {\n",
    "            'w': 'x',\n",
    "            'y': 'z'\n",
    "        }\n",
    "    }\n",
    "})"
   ]
  },
  {
   "cell_type": "code",
   "execution_count": null,
   "metadata": {
    "deletable": false,
    "editable": false,
    "nbgrader": {
     "checksum": "60382490a71321b04c8c0f8649e46021",
     "grade": true,
     "grade_id": "cell-e70e266411751d21",
     "locked": true,
     "points": 0,
     "schema_version": 1,
     "solution": false
    }
   },
   "outputs": [],
   "source": []
  },
  {
   "cell_type": "code",
   "execution_count": null,
   "metadata": {
    "deletable": false,
    "editable": false,
    "nbgrader": {
     "checksum": "8403b0ac27493ee36b1dd92b44bf9c69",
     "grade": true,
     "grade_id": "cell-2971409d0079d911",
     "locked": true,
     "points": 0.5,
     "schema_version": 1,
     "solution": false
    }
   },
   "outputs": [],
   "source": []
  },
  {
   "cell_type": "code",
   "execution_count": null,
   "metadata": {
    "deletable": false,
    "editable": false,
    "nbgrader": {
     "checksum": "3ace1c9f15b5dd2231ae63172056266c",
     "grade": true,
     "grade_id": "cell-613065f3f3208265",
     "locked": true,
     "points": 0.5,
     "schema_version": 1,
     "solution": false
    }
   },
   "outputs": [],
   "source": []
  },
  {
   "cell_type": "code",
   "execution_count": null,
   "metadata": {
    "deletable": false,
    "editable": false,
    "nbgrader": {
     "checksum": "f3da1cc4c912b232bbecd7986ae1ef4c",
     "grade": true,
     "grade_id": "cell-2e13b31e581d0239",
     "locked": true,
     "points": 0.5,
     "schema_version": 1,
     "solution": false
    }
   },
   "outputs": [],
   "source": []
  },
  {
   "cell_type": "code",
   "execution_count": null,
   "metadata": {
    "deletable": false,
    "editable": false,
    "nbgrader": {
     "checksum": "fc7d4a39c2bd2bf6e07a87ec2862ef52",
     "grade": true,
     "grade_id": "cell-c9dbce69a782e947",
     "locked": true,
     "points": 0.5,
     "schema_version": 1,
     "solution": false
    }
   },
   "outputs": [],
   "source": []
  },
  {
   "cell_type": "code",
   "execution_count": null,
   "metadata": {
    "deletable": false,
    "editable": false,
    "nbgrader": {
     "checksum": "54b63736b7ae3a7b23633cfbb66107d6",
     "grade": true,
     "grade_id": "cell-21b3bc731bd4c6b2",
     "locked": true,
     "points": 0.5,
     "schema_version": 1,
     "solution": false
    }
   },
   "outputs": [],
   "source": []
  },
  {
   "cell_type": "code",
   "execution_count": null,
   "metadata": {
    "deletable": false,
    "editable": false,
    "nbgrader": {
     "checksum": "bbbe5d01dd2f61849433e8c796ad4e0e",
     "grade": true,
     "grade_id": "cell-ca9aef7501c02778",
     "locked": true,
     "points": 0.5,
     "schema_version": 1,
     "solution": false
    }
   },
   "outputs": [],
   "source": []
  }
 ],
 "metadata": {
  "anaconda-cloud": {},
  "kernelspec": {
   "display_name": "Python 3",
   "language": "python",
   "name": "python3"
  },
  "language_info": {
   "codemirror_mode": {
    "name": "ipython",
    "version": 3
   },
   "file_extension": ".py",
   "mimetype": "text/x-python",
   "name": "python",
   "nbconvert_exporter": "python",
   "pygments_lexer": "ipython3",
   "version": "3.7.3"
  }
 },
 "nbformat": 4,
 "nbformat_minor": 2
}
